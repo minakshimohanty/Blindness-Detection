{
  "nbformat": 4,
  "nbformat_minor": 0,
  "metadata": {
    "colab": {
      "name": "VGG-19.ipynb",
      "provenance": [],
      "collapsed_sections": [],
      "machine_shape": "hm",
      "authorship_tag": "ABX9TyOffQ8usO2KHknyPH6SOGkP",
      "include_colab_link": true
    },
    "kernelspec": {
      "name": "python3",
      "display_name": "Python 3"
    },
    "accelerator": "GPU"
  },
  "cells": [
    {
      "cell_type": "markdown",
      "metadata": {
        "id": "view-in-github",
        "colab_type": "text"
      },
      "source": [
        "<a href=\"https://colab.research.google.com/github/minakshimohanty/Diabetic-Retinopathy-Detection/blob/master/VGG_19.ipynb\" target=\"_parent\"><img src=\"https://colab.research.google.com/assets/colab-badge.svg\" alt=\"Open In Colab\"/></a>"
      ]
    },
    {
      "cell_type": "code",
      "metadata": {
        "id": "tjssFf25pwot",
        "colab_type": "code",
        "colab": {}
      },
      "source": [
        "from google.colab import drive\n",
        "drive.mount('/content/drive')\n"
      ],
      "execution_count": 0,
      "outputs": []
    },
    {
      "cell_type": "code",
      "metadata": {
        "id": "sbpAEfalp5Dy",
        "colab_type": "code",
        "colab": {}
      },
      "source": [
        "import pandas as pd\n",
        "import matplotlib.pyplot as plt\n",
        "%matplotlib inline\n",
        "import numpy as np"
      ],
      "execution_count": 0,
      "outputs": []
    },
    {
      "cell_type": "code",
      "metadata": {
        "id": "-Uda117Lp9by",
        "colab_type": "code",
        "colab": {}
      },
      "source": [
        "X_train = np.load('/content/drive/My Drive/Capstone 1/train_data_224.npy')\n",
        "y_train = np.load('/content/drive/My Drive/Capstone 1/train_labels_224.npy')\n",
        "X_test = np.load('/content/drive/My Drive/Capstone 1/test_data_224.npy')\n",
        "y_test = np.load('/content/drive/My Drive/Capstone 1/test_labels_224.npy')"
      ],
      "execution_count": 0,
      "outputs": []
    },
    {
      "cell_type": "code",
      "metadata": {
        "id": "cTmaqjNDp-AJ",
        "colab_type": "code",
        "outputId": "47bd063b-3ebf-47a0-ffca-c0e2931a9e7f",
        "colab": {
          "base_uri": "https://localhost:8080/",
          "height": 34
        }
      },
      "source": [
        "from keras.utils import to_categorical\n",
        "y_train = to_categorical(y_train)\n",
        "y_test = to_categorical(y_test)"
      ],
      "execution_count": 4,
      "outputs": [
        {
          "output_type": "stream",
          "text": [
            "Using TensorFlow backend.\n"
          ],
          "name": "stderr"
        }
      ]
    },
    {
      "cell_type": "code",
      "metadata": {
        "id": "NERYYIPvyZ80",
        "colab_type": "code",
        "colab": {}
      },
      "source": [
        "IMG_HEIGHT = 224\n",
        "IMG_WIDTH = 224"
      ],
      "execution_count": 0,
      "outputs": []
    },
    {
      "cell_type": "code",
      "metadata": {
        "id": "_q9hEKT_qAny",
        "colab_type": "code",
        "outputId": "f3e12542-de1b-42d1-9ee6-ff2ce344fa66",
        "colab": {
          "base_uri": "https://localhost:8080/",
          "height": 989
        }
      },
      "source": [
        "import tensorflow as tf\n",
        "from tensorflow import keras\n",
        "from tensorflow.keras.applications.vgg19 import VGG19\n",
        "from tensorflow.keras.models import Model\n",
        "\n",
        "model_vgg = VGG19(include_top=False, weights='imagenet', input_shape=(IMG_HEIGHT,IMG_WIDTH,3))\n",
        "output = model_vgg.layers[-1].output\n",
        "output = keras.layers.Flatten()(output)\n",
        "model_vgg = Model(model_vgg.input, outputs=output)\n",
        "for layer in model_vgg.layers:\n",
        "    layer.trainable = True\n",
        "model_vgg.summary() "
      ],
      "execution_count": 6,
      "outputs": [
        {
          "output_type": "stream",
          "text": [
            "Downloading data from https://storage.googleapis.com/tensorflow/keras-applications/vgg19/vgg19_weights_tf_dim_ordering_tf_kernels_notop.h5\n",
            "80142336/80134624 [==============================] - 1s 0us/step\n",
            "Model: \"model\"\n",
            "_________________________________________________________________\n",
            "Layer (type)                 Output Shape              Param #   \n",
            "=================================================================\n",
            "input_1 (InputLayer)         [(None, 224, 224, 3)]     0         \n",
            "_________________________________________________________________\n",
            "block1_conv1 (Conv2D)        (None, 224, 224, 64)      1792      \n",
            "_________________________________________________________________\n",
            "block1_conv2 (Conv2D)        (None, 224, 224, 64)      36928     \n",
            "_________________________________________________________________\n",
            "block1_pool (MaxPooling2D)   (None, 112, 112, 64)      0         \n",
            "_________________________________________________________________\n",
            "block2_conv1 (Conv2D)        (None, 112, 112, 128)     73856     \n",
            "_________________________________________________________________\n",
            "block2_conv2 (Conv2D)        (None, 112, 112, 128)     147584    \n",
            "_________________________________________________________________\n",
            "block2_pool (MaxPooling2D)   (None, 56, 56, 128)       0         \n",
            "_________________________________________________________________\n",
            "block3_conv1 (Conv2D)        (None, 56, 56, 256)       295168    \n",
            "_________________________________________________________________\n",
            "block3_conv2 (Conv2D)        (None, 56, 56, 256)       590080    \n",
            "_________________________________________________________________\n",
            "block3_conv3 (Conv2D)        (None, 56, 56, 256)       590080    \n",
            "_________________________________________________________________\n",
            "block3_conv4 (Conv2D)        (None, 56, 56, 256)       590080    \n",
            "_________________________________________________________________\n",
            "block3_pool (MaxPooling2D)   (None, 28, 28, 256)       0         \n",
            "_________________________________________________________________\n",
            "block4_conv1 (Conv2D)        (None, 28, 28, 512)       1180160   \n",
            "_________________________________________________________________\n",
            "block4_conv2 (Conv2D)        (None, 28, 28, 512)       2359808   \n",
            "_________________________________________________________________\n",
            "block4_conv3 (Conv2D)        (None, 28, 28, 512)       2359808   \n",
            "_________________________________________________________________\n",
            "block4_conv4 (Conv2D)        (None, 28, 28, 512)       2359808   \n",
            "_________________________________________________________________\n",
            "block4_pool (MaxPooling2D)   (None, 14, 14, 512)       0         \n",
            "_________________________________________________________________\n",
            "block5_conv1 (Conv2D)        (None, 14, 14, 512)       2359808   \n",
            "_________________________________________________________________\n",
            "block5_conv2 (Conv2D)        (None, 14, 14, 512)       2359808   \n",
            "_________________________________________________________________\n",
            "block5_conv3 (Conv2D)        (None, 14, 14, 512)       2359808   \n",
            "_________________________________________________________________\n",
            "block5_conv4 (Conv2D)        (None, 14, 14, 512)       2359808   \n",
            "_________________________________________________________________\n",
            "block5_pool (MaxPooling2D)   (None, 7, 7, 512)         0         \n",
            "_________________________________________________________________\n",
            "flatten (Flatten)            (None, 25088)             0         \n",
            "=================================================================\n",
            "Total params: 20,024,384\n",
            "Trainable params: 20,024,384\n",
            "Non-trainable params: 0\n",
            "_________________________________________________________________\n"
          ],
          "name": "stdout"
        }
      ]
    },
    {
      "cell_type": "code",
      "metadata": {
        "id": "ETMiD0V4u0WU",
        "colab_type": "code",
        "outputId": "c7e81fa2-b9ca-4a84-bbb4-a86eeeb0ab0e",
        "colab": {
          "base_uri": "https://localhost:8080/",
          "height": 357
        }
      },
      "source": [
        "from tensorflow.keras.layers import Conv2D, MaxPooling2D, Flatten, Dense, Dropout, InputLayer\n",
        "from tensorflow.keras.models import Sequential\n",
        "from tensorflow.keras import optimizers\n",
        "\n",
        "model =  Sequential()\n",
        "input_shape=(IMG_HEIGHT,IMG_WIDTH,3)\n",
        "model.add(model_vgg)\n",
        "model.add(Dense(512, activation='relu', input_dim=input_shape))\n",
        "model.add(Dropout(0.3))\n",
        "model.add(Dense(512, activation='relu'))\n",
        "model.add(Dropout(0.3))\n",
        "model.add(Dense(5, activation='softmax')) \n",
        "\n",
        "model.compile(loss='categorical_crossentropy',\n",
        "              optimizer=optimizers.RMSprop(lr=2e-5),\n",
        "              metrics=['accuracy'])\n",
        "model.summary() "
      ],
      "execution_count": 7,
      "outputs": [
        {
          "output_type": "stream",
          "text": [
            "Model: \"sequential\"\n",
            "_________________________________________________________________\n",
            "Layer (type)                 Output Shape              Param #   \n",
            "=================================================================\n",
            "model (Model)                (None, 25088)             20024384  \n",
            "_________________________________________________________________\n",
            "dense (Dense)                (None, 512)               12845568  \n",
            "_________________________________________________________________\n",
            "dropout (Dropout)            (None, 512)               0         \n",
            "_________________________________________________________________\n",
            "dense_1 (Dense)              (None, 512)               262656    \n",
            "_________________________________________________________________\n",
            "dropout_1 (Dropout)          (None, 512)               0         \n",
            "_________________________________________________________________\n",
            "dense_2 (Dense)              (None, 5)                 2565      \n",
            "=================================================================\n",
            "Total params: 33,135,173\n",
            "Trainable params: 33,135,173\n",
            "Non-trainable params: 0\n",
            "_________________________________________________________________\n"
          ],
          "name": "stdout"
        }
      ]
    },
    {
      "cell_type": "code",
      "metadata": {
        "id": "3BEZ8P2X0Ewv",
        "colab_type": "code",
        "outputId": "35b74134-35d5-48c8-ff1d-31d5cd8dc0aa",
        "colab": {
          "base_uri": "https://localhost:8080/",
          "height": 1000
        }
      },
      "source": [
        "batch_size = 128\n",
        "epochs = 30\n",
        "num_classes = 5\n",
        "X_train_norm = X_train/255\n",
        "eyetest_train = model.fit(X_train_norm, y_train, batch_size = batch_size, epochs = epochs, validation_split=0.1) "
      ],
      "execution_count": 8,
      "outputs": [
        {
          "output_type": "stream",
          "text": [
            "Epoch 1/30\n",
            "19/19 [==============================] - 19s 981ms/step - loss: 1.0620 - accuracy: 0.6149 - val_loss: 1.0376 - val_accuracy: 0.6304\n",
            "Epoch 2/30\n",
            "19/19 [==============================] - 18s 927ms/step - loss: 0.8235 - accuracy: 0.7003 - val_loss: 0.9438 - val_accuracy: 0.6693\n",
            "Epoch 3/30\n",
            "19/19 [==============================] - 18s 928ms/step - loss: 0.7857 - accuracy: 0.7051 - val_loss: 0.8749 - val_accuracy: 0.6926\n",
            "Epoch 4/30\n",
            "19/19 [==============================] - 18s 928ms/step - loss: 0.7340 - accuracy: 0.7229 - val_loss: 0.8738 - val_accuracy: 0.7432\n",
            "Epoch 5/30\n",
            "19/19 [==============================] - 18s 926ms/step - loss: 0.7517 - accuracy: 0.7459 - val_loss: 0.7372 - val_accuracy: 0.7510\n",
            "Epoch 6/30\n",
            "19/19 [==============================] - 18s 926ms/step - loss: 0.7082 - accuracy: 0.7580 - val_loss: 4.2296 - val_accuracy: 0.2296\n",
            "Epoch 7/30\n",
            "19/19 [==============================] - 18s 928ms/step - loss: 0.8734 - accuracy: 0.7116 - val_loss: 0.7382 - val_accuracy: 0.6693\n",
            "Epoch 8/30\n",
            "19/19 [==============================] - 18s 926ms/step - loss: 0.6250 - accuracy: 0.7559 - val_loss: 0.4791 - val_accuracy: 0.7549\n",
            "Epoch 9/30\n",
            "19/19 [==============================] - 18s 925ms/step - loss: 0.6146 - accuracy: 0.7780 - val_loss: 0.9831 - val_accuracy: 0.7237\n",
            "Epoch 10/30\n",
            "19/19 [==============================] - 18s 928ms/step - loss: 0.5592 - accuracy: 0.7719 - val_loss: 0.4711 - val_accuracy: 0.7938\n",
            "Epoch 11/30\n",
            "19/19 [==============================] - 18s 926ms/step - loss: 0.5421 - accuracy: 0.7901 - val_loss: 0.6482 - val_accuracy: 0.7626\n",
            "Epoch 12/30\n",
            "19/19 [==============================] - 18s 927ms/step - loss: 0.5138 - accuracy: 0.7923 - val_loss: 0.8824 - val_accuracy: 0.6342\n",
            "Epoch 13/30\n",
            "19/19 [==============================] - 18s 926ms/step - loss: 0.5630 - accuracy: 0.7979 - val_loss: 0.5294 - val_accuracy: 0.7004\n",
            "Epoch 14/30\n",
            "19/19 [==============================] - 18s 927ms/step - loss: 0.4876 - accuracy: 0.8144 - val_loss: 0.6375 - val_accuracy: 0.7393\n",
            "Epoch 15/30\n",
            "19/19 [==============================] - 18s 926ms/step - loss: 0.4839 - accuracy: 0.8270 - val_loss: 1.1151 - val_accuracy: 0.5953\n",
            "Epoch 16/30\n",
            "19/19 [==============================] - 18s 927ms/step - loss: 0.5200 - accuracy: 0.8083 - val_loss: 0.8021 - val_accuracy: 0.7121\n",
            "Epoch 17/30\n",
            "19/19 [==============================] - 18s 926ms/step - loss: 0.4355 - accuracy: 0.8417 - val_loss: 0.4619 - val_accuracy: 0.7510\n",
            "Epoch 18/30\n",
            "19/19 [==============================] - 18s 926ms/step - loss: 0.3804 - accuracy: 0.8578 - val_loss: 0.4252 - val_accuracy: 0.7938\n",
            "Epoch 19/30\n",
            "19/19 [==============================] - 18s 925ms/step - loss: 0.3651 - accuracy: 0.8543 - val_loss: 0.5994 - val_accuracy: 0.7782\n",
            "Epoch 20/30\n",
            "19/19 [==============================] - 18s 927ms/step - loss: 0.3277 - accuracy: 0.8760 - val_loss: 0.5538 - val_accuracy: 0.7588\n",
            "Epoch 21/30\n",
            "19/19 [==============================] - 18s 927ms/step - loss: 0.3343 - accuracy: 0.8664 - val_loss: 0.5090 - val_accuracy: 0.7588\n",
            "Epoch 22/30\n",
            "19/19 [==============================] - 18s 925ms/step - loss: 0.3117 - accuracy: 0.8903 - val_loss: 1.1277 - val_accuracy: 0.6654\n",
            "Epoch 23/30\n",
            "19/19 [==============================] - 18s 926ms/step - loss: 0.2992 - accuracy: 0.8851 - val_loss: 0.4830 - val_accuracy: 0.7704\n",
            "Epoch 24/30\n",
            "19/19 [==============================] - 18s 925ms/step - loss: 0.2219 - accuracy: 0.9150 - val_loss: 0.4618 - val_accuracy: 0.7977\n",
            "Epoch 25/30\n",
            "19/19 [==============================] - 18s 925ms/step - loss: 0.2342 - accuracy: 0.9137 - val_loss: 0.5276 - val_accuracy: 0.7588\n",
            "Epoch 26/30\n",
            "19/19 [==============================] - 18s 926ms/step - loss: 0.2081 - accuracy: 0.9193 - val_loss: 0.4721 - val_accuracy: 0.7899\n",
            "Epoch 27/30\n",
            "19/19 [==============================] - 18s 924ms/step - loss: 0.1894 - accuracy: 0.9337 - val_loss: 0.5132 - val_accuracy: 0.7860\n",
            "Epoch 28/30\n",
            "19/19 [==============================] - 18s 926ms/step - loss: 0.1475 - accuracy: 0.9488 - val_loss: 0.7743 - val_accuracy: 0.7276\n",
            "Epoch 29/30\n",
            "19/19 [==============================] - 18s 926ms/step - loss: 0.2138 - accuracy: 0.9206 - val_loss: 0.6306 - val_accuracy: 0.7743\n",
            "Epoch 30/30\n",
            "19/19 [==============================] - 18s 926ms/step - loss: 0.1452 - accuracy: 0.9523 - val_loss: 0.9703 - val_accuracy: 0.6693\n"
          ],
          "name": "stdout"
        }
      ]
    },
    {
      "cell_type": "code",
      "metadata": {
        "id": "KkksA_Z30b-M",
        "colab_type": "code",
        "outputId": "f3f8c86b-28f8-44c6-ab71-1af035363562",
        "colab": {
          "base_uri": "https://localhost:8080/",
          "height": 51
        }
      },
      "source": [
        "X_test_norm = X_test/255\n",
        "eyetest_eval = model.evaluate(X_test_norm, y_test, verbose=0)\n",
        "print('Test loss:', eyetest_eval[0])\n",
        "print('Test accuracy:', eyetest_eval[1])"
      ],
      "execution_count": 9,
      "outputs": [
        {
          "output_type": "stream",
          "text": [
            "Test loss: 1.5517772436141968\n",
            "Test accuracy: 0.6542311310768127\n"
          ],
          "name": "stdout"
        }
      ]
    },
    {
      "cell_type": "code",
      "metadata": {
        "id": "rBvoMpA50cmd",
        "colab_type": "code",
        "outputId": "1d8c6d23-51bd-4daf-fb8c-a15cb90067a3",
        "colab": {
          "base_uri": "https://localhost:8080/",
          "height": 573
        }
      },
      "source": [
        "accuracy = eyetest_train.history['accuracy']\n",
        "loss = eyetest_train.history['loss']\n",
        "val_accuracy = eyetest_train.history['val_accuracy']\n",
        "val_loss = eyetest_train.history['val_loss']\n",
        "epochs = range(len(accuracy))\n",
        "plt.plot(epochs, accuracy, 'b', label='Training accuracy')\n",
        "plt.plot(epochs, val_accuracy, 'r', label='Validation accuracy')\n",
        "plt.title('Training and validation accuracy')\n",
        "plt.ylabel('Accuracy')\n",
        "plt.xlabel('Epoch')\n",
        "plt.legend()\n",
        "plt.figure()\n",
        "plt.plot(epochs, loss, 'b', label='Training loss')\n",
        "plt.plot(epochs, val_loss, 'r', label='Validation loss')\n",
        "plt.title('Training and validation loss')\n",
        "plt.ylabel('Loss')\n",
        "plt.xlabel('Epoch')\n",
        "plt.legend()\n",
        "plt.show()"
      ],
      "execution_count": 10,
      "outputs": [
        {
          "output_type": "display_data",
          "data": {
            "image/png": "[encoded data removed]",
            "text/plain": [
              "<Figure size 432x288 with 1 Axes>"
            ]
          },
          "metadata": {
            "tags": []
          }
        },
        {
          "output_type": "display_data",
          "data": {
            "image/png": "[encoded data removed]",
            "text/plain": [
              "<Figure size 432x288 with 1 Axes>"
            ]
          },
          "metadata": {
            "tags": []
          }
        }
      ]
    },
    {
      "cell_type": "code",
      "metadata": {
        "id": "y8KDdA400fI3",
        "colab_type": "code",
        "colab": {}
      },
      "source": [
        "# predictions\n",
        "y_pred = model.predict(X_test)"
      ],
      "execution_count": 0,
      "outputs": []
    },
    {
      "cell_type": "code",
      "metadata": {
        "id": "a_v-tUnD0pXa",
        "colab_type": "code",
        "colab": {}
      },
      "source": [
        "def decode(datum):\n",
        "    return np.argmax(datum)\n",
        "    "
      ],
      "execution_count": 0,
      "outputs": []
    },
    {
      "cell_type": "code",
      "metadata": {
        "id": "BLSE-YXU0qhy",
        "colab_type": "code",
        "colab": {}
      },
      "source": [
        "y_pred_decoded = []\n",
        "for i in range(y_pred.shape[0]):\n",
        "    y_pred_decoded.append(decode(y_pred[i]))"
      ],
      "execution_count": 0,
      "outputs": []
    },
    {
      "cell_type": "code",
      "metadata": {
        "id": "WC5MSw400ubc",
        "colab_type": "code",
        "colab": {}
      },
      "source": [
        "y_test_decoded = []\n",
        "for i in range(y_test.shape[0]):\n",
        "    y_test_decoded.append(decode(y_test[i]))"
      ],
      "execution_count": 0,
      "outputs": []
    },
    {
      "cell_type": "code",
      "metadata": {
        "id": "upY7hzf80vOt",
        "colab_type": "code",
        "colab": {}
      },
      "source": [
        "compare = np.column_stack((y_test_decoded, y_pred_decoded))"
      ],
      "execution_count": 0,
      "outputs": []
    },
    {
      "cell_type": "code",
      "metadata": {
        "id": "hh6oud8Z0ydO",
        "colab_type": "code",
        "outputId": "60b1eac1-c36d-427d-caa9-2edd7c86c76b",
        "colab": {
          "base_uri": "https://localhost:8080/",
          "height": 221
        }
      },
      "source": [
        "from sklearn.metrics import classification_report\n",
        "#multilabel_confusion_matrix(y_test_decoded, y_pred_decoded)\n",
        "target_names = ['No DR', 'Mild', 'Moderate', 'Severe', 'Proliferative DR']\n",
        "print(classification_report(y_test_decoded, y_pred_decoded, target_names=target_names))"
      ],
      "execution_count": 16,
      "outputs": [
        {
          "output_type": "stream",
          "text": [
            "                  precision    recall  f1-score   support\n",
            "\n",
            "           No DR       0.82      0.99      0.89       540\n",
            "            Mild       1.00      0.01      0.02        98\n",
            "        Moderate       0.68      0.21      0.32       302\n",
            "          Severe       0.19      0.35      0.24        55\n",
            "Proliferative DR       0.27      0.64      0.38       104\n",
            "\n",
            "        accuracy                           0.62      1099\n",
            "       macro avg       0.59      0.44      0.37      1099\n",
            "    weighted avg       0.71      0.62      0.58      1099\n",
            "\n"
          ],
          "name": "stdout"
        }
      ]
    },
    {
      "cell_type": "code",
      "metadata": {
        "id": "wvuVVwqSAcea",
        "colab_type": "code",
        "outputId": "379cb5fb-0517-4981-aaf8-447318a37b0d",
        "colab": {
          "base_uri": "https://localhost:8080/",
          "height": 102
        }
      },
      "source": [
        "from sklearn.metrics import confusion_matrix\n",
        "print(confusion_matrix(y_test_decoded, y_pred_decoded, labels= [0,1,2,3,4]))"
      ],
      "execution_count": 17,
      "outputs": [
        {
          "output_type": "stream",
          "text": [
            "[[533   0   0   0   7]\n",
            " [ 41   1  13   3  40]\n",
            " [ 59   0  63  64 116]\n",
            " [ 10   0   5  19  21]\n",
            " [  9   0  12  16  67]]\n"
          ],
          "name": "stdout"
        }
      ]
    },
    {
      "cell_type": "code",
      "metadata": {
        "id": "Ykc5xHKIZp7Z",
        "colab_type": "code",
        "colab": {}
      },
      "source": [
        ""
      ],
      "execution_count": 0,
      "outputs": []
    }
  ]
}