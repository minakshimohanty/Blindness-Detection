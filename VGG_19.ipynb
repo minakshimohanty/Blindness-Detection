{
  "nbformat": 4,
  "nbformat_minor": 0,
  "metadata": {
    "colab": {
      "name": "VGG-19.ipynb",
      "provenance": [],
      "collapsed_sections": [],
      "authorship_tag": "ABX9TyMywmvcL1E/w0juGJDmhscW",
      "include_colab_link": true
    },
    "kernelspec": {
      "name": "python3",
      "display_name": "Python 3"
    },
    "accelerator": "GPU"
  },
  "cells": [
    {
      "cell_type": "markdown",
      "metadata": {
        "id": "view-in-github",
        "colab_type": "text"
      },
      "source": [
        "<a href=\"https://colab.research.google.com/github/minakshimohanty/Diabetic-Retinopathy-Detection/blob/master/VGG_19.ipynb\" target=\"_parent\"><img src=\"https://colab.research.google.com/assets/colab-badge.svg\" alt=\"Open In Colab\"/></a>"
      ]
    },
    {
      "cell_type": "code",
      "metadata": {
        "id": "tjssFf25pwot",
        "colab_type": "code",
        "colab": {}
      },
      "source": [
        "from google.colab import drive\n",
        "drive.mount('/content/drive')\n"
      ],
      "execution_count": 0,
      "outputs": []
    },
    {
      "cell_type": "code",
      "metadata": {
        "id": "sbpAEfalp5Dy",
        "colab_type": "code",
        "colab": {}
      },
      "source": [
        "import pandas as pd\n",
        "import matplotlib.pyplot as plt\n",
        "%matplotlib inline\n",
        "import numpy as np"
      ],
      "execution_count": 0,
      "outputs": []
    },
    {
      "cell_type": "code",
      "metadata": {
        "id": "-Uda117Lp9by",
        "colab_type": "code",
        "colab": {}
      },
      "source": [
        "X_train = np.load('/content/drive/My Drive/Capstone 1/train_data_224.npy')\n",
        "y_train = np.load('/content/drive/My Drive/Capstone 1/train_labels_224.npy')\n",
        "X_test = np.load('/content/drive/My Drive/Capstone 1/test_data_224.npy')\n",
        "y_test = np.load('/content/drive/My Drive/Capstone 1/test_labels_224.npy')"
      ],
      "execution_count": 0,
      "outputs": []
    },
    {
      "cell_type": "code",
      "metadata": {
        "id": "cTmaqjNDp-AJ",
        "colab_type": "code",
        "outputId": "b49ba7a7-099d-4442-e0b7-5adb5042c990",
        "colab": {
          "base_uri": "https://localhost:8080/",
          "height": 80
        }
      },
      "source": [
        "from keras.utils import to_categorical\n",
        "y_train = to_categorical(y_train)\n",
        "y_test = to_categorical(y_test)"
      ],
      "execution_count": 4,
      "outputs": [
        {
          "output_type": "stream",
          "text": [
            "Using TensorFlow backend.\n"
          ],
          "name": "stderr"
        },
        {
          "output_type": "display_data",
          "data": {
            "text/html": [
              "<p style=\"color: red;\">\n",
              "The default version of TensorFlow in Colab will soon switch to TensorFlow 2.x.<br>\n",
              "We recommend you <a href=\"https://www.tensorflow.org/guide/migrate\" target=\"_blank\">upgrade</a> now \n",
              "or ensure your notebook will continue to use TensorFlow 1.x via the <code>%tensorflow_version 1.x</code> magic:\n",
              "<a href=\"https://colab.research.google.com/notebooks/tensorflow_version.ipynb\" target=\"_blank\">more info</a>.</p>\n"
            ],
            "text/plain": [
              "<IPython.core.display.HTML object>"
            ]
          },
          "metadata": {
            "tags": []
          }
        }
      ]
    },
    {
      "cell_type": "code",
      "metadata": {
        "id": "NERYYIPvyZ80",
        "colab_type": "code",
        "colab": {}
      },
      "source": [
        "IMG_HEIGHT = 224\n",
        "IMG_WIDTH = 224"
      ],
      "execution_count": 0,
      "outputs": []
    },
    {
      "cell_type": "code",
      "metadata": {
        "id": "_q9hEKT_qAny",
        "colab_type": "code",
        "outputId": "72ff4c98-5bc9-43d6-9df1-257e669561f0",
        "colab": {
          "base_uri": "https://localhost:8080/",
          "height": 989
        }
      },
      "source": [
        "from keras.applications.vgg19 import VGG19\n",
        "from keras.models import Model\n",
        "import keras\n",
        "model_vgg = VGG19(include_top=False, weights='imagenet', input_shape=(IMG_HEIGHT,IMG_WIDTH,3))\n",
        "output = model_vgg.layers[-1].output\n",
        "output = keras.layers.Flatten()(output)\n",
        "model_vgg = Model(model_vgg.input, output=output)\n",
        "for layer in model_vgg.layers:\n",
        "    layer.trainable = False\n",
        "model_vgg.summary() "
      ],
      "execution_count": 8,
      "outputs": [
        {
          "output_type": "stream",
          "text": [
            "Model: \"model_1\"\n",
            "_________________________________________________________________\n",
            "Layer (type)                 Output Shape              Param #   \n",
            "=================================================================\n",
            "input_2 (InputLayer)         (None, 224, 224, 3)       0         \n",
            "_________________________________________________________________\n",
            "block1_conv1 (Conv2D)        (None, 224, 224, 64)      1792      \n",
            "_________________________________________________________________\n",
            "block1_conv2 (Conv2D)        (None, 224, 224, 64)      36928     \n",
            "_________________________________________________________________\n",
            "block1_pool (MaxPooling2D)   (None, 112, 112, 64)      0         \n",
            "_________________________________________________________________\n",
            "block2_conv1 (Conv2D)        (None, 112, 112, 128)     73856     \n",
            "_________________________________________________________________\n",
            "block2_conv2 (Conv2D)        (None, 112, 112, 128)     147584    \n",
            "_________________________________________________________________\n",
            "block2_pool (MaxPooling2D)   (None, 56, 56, 128)       0         \n",
            "_________________________________________________________________\n",
            "block3_conv1 (Conv2D)        (None, 56, 56, 256)       295168    \n",
            "_________________________________________________________________\n",
            "block3_conv2 (Conv2D)        (None, 56, 56, 256)       590080    \n",
            "_________________________________________________________________\n",
            "block3_conv3 (Conv2D)        (None, 56, 56, 256)       590080    \n",
            "_________________________________________________________________\n",
            "block3_conv4 (Conv2D)        (None, 56, 56, 256)       590080    \n",
            "_________________________________________________________________\n",
            "block3_pool (MaxPooling2D)   (None, 28, 28, 256)       0         \n",
            "_________________________________________________________________\n",
            "block4_conv1 (Conv2D)        (None, 28, 28, 512)       1180160   \n",
            "_________________________________________________________________\n",
            "block4_conv2 (Conv2D)        (None, 28, 28, 512)       2359808   \n",
            "_________________________________________________________________\n",
            "block4_conv3 (Conv2D)        (None, 28, 28, 512)       2359808   \n",
            "_________________________________________________________________\n",
            "block4_conv4 (Conv2D)        (None, 28, 28, 512)       2359808   \n",
            "_________________________________________________________________\n",
            "block4_pool (MaxPooling2D)   (None, 14, 14, 512)       0         \n",
            "_________________________________________________________________\n",
            "block5_conv1 (Conv2D)        (None, 14, 14, 512)       2359808   \n",
            "_________________________________________________________________\n",
            "block5_conv2 (Conv2D)        (None, 14, 14, 512)       2359808   \n",
            "_________________________________________________________________\n",
            "block5_conv3 (Conv2D)        (None, 14, 14, 512)       2359808   \n",
            "_________________________________________________________________\n",
            "block5_conv4 (Conv2D)        (None, 14, 14, 512)       2359808   \n",
            "_________________________________________________________________\n",
            "block5_pool (MaxPooling2D)   (None, 7, 7, 512)         0         \n",
            "_________________________________________________________________\n",
            "flatten_1 (Flatten)          (None, 25088)             0         \n",
            "=================================================================\n",
            "Total params: 20,024,384\n",
            "Trainable params: 0\n",
            "Non-trainable params: 20,024,384\n",
            "_________________________________________________________________\n"
          ],
          "name": "stdout"
        },
        {
          "output_type": "stream",
          "text": [
            "/usr/local/lib/python3.6/dist-packages/ipykernel_launcher.py:7: UserWarning: Update your `Model` call to the Keras 2 API: `Model(Tensor(\"in..., outputs=Tensor(\"fl...)`\n",
            "  import sys\n"
          ],
          "name": "stderr"
        }
      ]
    },
    {
      "cell_type": "code",
      "metadata": {
        "id": "ETMiD0V4u0WU",
        "colab_type": "code",
        "outputId": "3d69c1a9-8693-48f7-e2ac-c72597c30bda",
        "colab": {
          "base_uri": "https://localhost:8080/",
          "height": 357
        }
      },
      "source": [
        "from keras.layers import Conv2D, MaxPooling2D, Flatten, Dense, Dropout, InputLayer\n",
        "from keras.models import Sequential\n",
        "from keras import optimizers\n",
        "\n",
        "model =  Sequential()\n",
        "input_shape=(IMG_HEIGHT,IMG_WIDTH,3)\n",
        "model.add(model_vgg)\n",
        "model.add(Dense(512, activation='relu', input_dim=input_shape))\n",
        "model.add(Dropout(0.3))\n",
        "model.add(Dense(512, activation='relu'))\n",
        "model.add(Dropout(0.3))\n",
        "model.add(Dense(5, activation='sigmoid'))\n",
        "\n",
        "model.compile(loss='binary_crossentropy',\n",
        "              optimizer=optimizers.RMSprop(lr=2e-5),\n",
        "              metrics=['accuracy'])\n",
        "model.summary() "
      ],
      "execution_count": 9,
      "outputs": [
        {
          "output_type": "stream",
          "text": [
            "Model: \"sequential_2\"\n",
            "_________________________________________________________________\n",
            "Layer (type)                 Output Shape              Param #   \n",
            "=================================================================\n",
            "model_1 (Model)              (None, 25088)             20024384  \n",
            "_________________________________________________________________\n",
            "dense_4 (Dense)              (None, 512)               12845568  \n",
            "_________________________________________________________________\n",
            "dropout_3 (Dropout)          (None, 512)               0         \n",
            "_________________________________________________________________\n",
            "dense_5 (Dense)              (None, 512)               262656    \n",
            "_________________________________________________________________\n",
            "dropout_4 (Dropout)          (None, 512)               0         \n",
            "_________________________________________________________________\n",
            "dense_6 (Dense)              (None, 5)                 2565      \n",
            "=================================================================\n",
            "Total params: 33,135,173\n",
            "Trainable params: 13,110,789\n",
            "Non-trainable params: 20,024,384\n",
            "_________________________________________________________________\n"
          ],
          "name": "stdout"
        }
      ]
    },
    {
      "cell_type": "code",
      "metadata": {
        "id": "3BEZ8P2X0Ewv",
        "colab_type": "code",
        "outputId": "cf0ac18d-b78e-4d4a-eb3c-1ab6e5ecf43f",
        "colab": {
          "base_uri": "https://localhost:8080/",
          "height": 1000
        }
      },
      "source": [
        "batch_size = 128\n",
        "epochs = 30\n",
        "num_classes = 5\n",
        "X_train_norm = X_train/255\n",
        "eyetest_train = model.fit(X_train_norm, y_train, batch_size = batch_size, epochs = epochs, validation_split=0.1) "
      ],
      "execution_count": 10,
      "outputs": [
        {
          "output_type": "stream",
          "text": [
            "WARNING:tensorflow:From /usr/local/lib/python3.6/dist-packages/keras/backend/tensorflow_backend.py:1033: The name tf.assign_add is deprecated. Please use tf.compat.v1.assign_add instead.\n",
            "\n",
            "WARNING:tensorflow:From /usr/local/lib/python3.6/dist-packages/keras/backend/tensorflow_backend.py:1020: The name tf.assign is deprecated. Please use tf.compat.v1.assign instead.\n",
            "\n",
            "Train on 2306 samples, validate on 257 samples\n",
            "Epoch 1/30\n",
            "2306/2306 [==============================] - 16s 7ms/step - loss: 0.4129 - acc: 0.8299 - val_loss: 0.3322 - val_acc: 0.8763\n",
            "Epoch 2/30\n",
            "2306/2306 [==============================] - 7s 3ms/step - loss: 0.3287 - acc: 0.8715 - val_loss: 0.2979 - val_acc: 0.8817\n",
            "Epoch 3/30\n",
            "2306/2306 [==============================] - 7s 3ms/step - loss: 0.2980 - acc: 0.8803 - val_loss: 0.2848 - val_acc: 0.8864\n",
            "Epoch 4/30\n",
            "2306/2306 [==============================] - 7s 3ms/step - loss: 0.2883 - acc: 0.8842 - val_loss: 0.2793 - val_acc: 0.8763\n",
            "Epoch 5/30\n",
            "2306/2306 [==============================] - 7s 3ms/step - loss: 0.2783 - acc: 0.8849 - val_loss: 0.2695 - val_acc: 0.8926\n",
            "Epoch 6/30\n",
            "2306/2306 [==============================] - 7s 3ms/step - loss: 0.2744 - acc: 0.8869 - val_loss: 0.2670 - val_acc: 0.8802\n",
            "Epoch 7/30\n",
            "2306/2306 [==============================] - 7s 3ms/step - loss: 0.2697 - acc: 0.8898 - val_loss: 0.2580 - val_acc: 0.8988\n",
            "Epoch 8/30\n",
            "2306/2306 [==============================] - 7s 3ms/step - loss: 0.2617 - acc: 0.8934 - val_loss: 0.2775 - val_acc: 0.8833\n",
            "Epoch 9/30\n",
            "2306/2306 [==============================] - 7s 3ms/step - loss: 0.2616 - acc: 0.8929 - val_loss: 0.2579 - val_acc: 0.8957\n",
            "Epoch 10/30\n",
            "2306/2306 [==============================] - 7s 3ms/step - loss: 0.2599 - acc: 0.8956 - val_loss: 0.2604 - val_acc: 0.8918\n",
            "Epoch 11/30\n",
            "2306/2306 [==============================] - 7s 3ms/step - loss: 0.2578 - acc: 0.8960 - val_loss: 0.2450 - val_acc: 0.9051\n",
            "Epoch 12/30\n",
            "2306/2306 [==============================] - 7s 3ms/step - loss: 0.2522 - acc: 0.8971 - val_loss: 0.2531 - val_acc: 0.8973\n",
            "Epoch 13/30\n",
            "2306/2306 [==============================] - 7s 3ms/step - loss: 0.2503 - acc: 0.8984 - val_loss: 0.2838 - val_acc: 0.8794\n",
            "Epoch 14/30\n",
            "2306/2306 [==============================] - 7s 3ms/step - loss: 0.2501 - acc: 0.8998 - val_loss: 0.2400 - val_acc: 0.9074\n",
            "Epoch 15/30\n",
            "2306/2306 [==============================] - 7s 3ms/step - loss: 0.2469 - acc: 0.8982 - val_loss: 0.2389 - val_acc: 0.9019\n",
            "Epoch 16/30\n",
            "2306/2306 [==============================] - 7s 3ms/step - loss: 0.2433 - acc: 0.9010 - val_loss: 0.2629 - val_acc: 0.8864\n",
            "Epoch 17/30\n",
            "2306/2306 [==============================] - 7s 3ms/step - loss: 0.2431 - acc: 0.9015 - val_loss: 0.2341 - val_acc: 0.9043\n",
            "Epoch 18/30\n",
            "2306/2306 [==============================] - 7s 3ms/step - loss: 0.2434 - acc: 0.9002 - val_loss: 0.2318 - val_acc: 0.9058\n",
            "Epoch 19/30\n",
            "2306/2306 [==============================] - 7s 3ms/step - loss: 0.2442 - acc: 0.9009 - val_loss: 0.2526 - val_acc: 0.8895\n",
            "Epoch 20/30\n",
            "2306/2306 [==============================] - 7s 3ms/step - loss: 0.2375 - acc: 0.9043 - val_loss: 0.2314 - val_acc: 0.9035\n",
            "Epoch 21/30\n",
            "2306/2306 [==============================] - 7s 3ms/step - loss: 0.2359 - acc: 0.9019 - val_loss: 0.2360 - val_acc: 0.9027\n",
            "Epoch 22/30\n",
            "2306/2306 [==============================] - 7s 3ms/step - loss: 0.2360 - acc: 0.9035 - val_loss: 0.2344 - val_acc: 0.9012\n",
            "Epoch 23/30\n",
            "2306/2306 [==============================] - 7s 3ms/step - loss: 0.2348 - acc: 0.9060 - val_loss: 0.2461 - val_acc: 0.8996\n",
            "Epoch 24/30\n",
            "2306/2306 [==============================] - 7s 3ms/step - loss: 0.2335 - acc: 0.9047 - val_loss: 0.2257 - val_acc: 0.9051\n",
            "Epoch 25/30\n",
            "2306/2306 [==============================] - 7s 3ms/step - loss: 0.2306 - acc: 0.9046 - val_loss: 0.2287 - val_acc: 0.9019\n",
            "Epoch 26/30\n",
            "2306/2306 [==============================] - 7s 3ms/step - loss: 0.2297 - acc: 0.9062 - val_loss: 0.2340 - val_acc: 0.9019\n",
            "Epoch 27/30\n",
            "2306/2306 [==============================] - 7s 3ms/step - loss: 0.2267 - acc: 0.9058 - val_loss: 0.2444 - val_acc: 0.8949\n",
            "Epoch 28/30\n",
            "2306/2306 [==============================] - 7s 3ms/step - loss: 0.2276 - acc: 0.9059 - val_loss: 0.2404 - val_acc: 0.8996\n",
            "Epoch 29/30\n",
            "2306/2306 [==============================] - 7s 3ms/step - loss: 0.2241 - acc: 0.9083 - val_loss: 0.2653 - val_acc: 0.8778\n",
            "Epoch 30/30\n",
            "2306/2306 [==============================] - 7s 3ms/step - loss: 0.2269 - acc: 0.9057 - val_loss: 0.2214 - val_acc: 0.9089\n"
          ],
          "name": "stdout"
        }
      ]
    },
    {
      "cell_type": "code",
      "metadata": {
        "id": "KkksA_Z30b-M",
        "colab_type": "code",
        "outputId": "e11815ed-b125-45d6-91d4-58e642c486c0",
        "colab": {
          "base_uri": "https://localhost:8080/",
          "height": 51
        }
      },
      "source": [
        "X_test_norm = X_test/255\n",
        "eyetest_eval = model.evaluate(X_test_norm, y_test, verbose=0)\n",
        "print('Test loss:', eyetest_eval[0])\n",
        "print('Test accuracy:', eyetest_eval[1])"
      ],
      "execution_count": 11,
      "outputs": [
        {
          "output_type": "stream",
          "text": [
            "Test loss: 0.2452450365478934\n",
            "Test accuracy: 0.9006369465909512\n"
          ],
          "name": "stdout"
        }
      ]
    },
    {
      "cell_type": "code",
      "metadata": {
        "id": "rBvoMpA50cmd",
        "colab_type": "code",
        "outputId": "030dc0b1-3420-4137-d596-6cc9c43032c8",
        "colab": {
          "base_uri": "https://localhost:8080/",
          "height": 573
        }
      },
      "source": [
        "accuracy = eyetest_train.history['acc']\n",
        "loss = eyetest_train.history['loss']\n",
        "val_accuracy = eyetest_train.history['val_acc']\n",
        "val_loss = eyetest_train.history['val_loss']\n",
        "epochs = range(len(accuracy))\n",
        "plt.plot(epochs, accuracy, 'b', label='Training accuracy')\n",
        "plt.plot(epochs, val_accuracy, 'r', label='Validation accuracy')\n",
        "plt.title('Training and validation accuracy')\n",
        "plt.ylabel('Accuracy')\n",
        "plt.xlabel('Epoch')\n",
        "plt.legend()\n",
        "plt.figure()\n",
        "plt.plot(epochs, loss, 'b', label='Training loss')\n",
        "plt.plot(epochs, val_loss, 'r', label='Validation loss')\n",
        "plt.title('Training and validation loss')\n",
        "plt.ylabel('Loss')\n",
        "plt.xlabel('Epoch')\n",
        "plt.legend()\n",
        "plt.show()"
      ],
      "execution_count": 12,
      "outputs": [
        {
          "output_type": "display_data",
          "data": {
            "image/png": "[encoded data removed]",
            "text/plain": [
              "<Figure size 432x288 with 1 Axes>"
            ]
          },
          "metadata": {
            "tags": []
          }
        },
        {
          "output_type": "display_data",
          "data": {
            "image/png": "[encoded data removed]",
            "text/plain": [
              "<Figure size 432x288 with 1 Axes>"
            ]
          },
          "metadata": {
            "tags": []
          }
        }
      ]
    },
    {
      "cell_type": "code",
      "metadata": {
        "id": "y8KDdA400fI3",
        "colab_type": "code",
        "colab": {}
      },
      "source": [
        "# predictions\n",
        "y_pred = model.predict(X_test)"
      ],
      "execution_count": 0,
      "outputs": []
    },
    {
      "cell_type": "code",
      "metadata": {
        "id": "a_v-tUnD0pXa",
        "colab_type": "code",
        "colab": {}
      },
      "source": [
        "def decode(datum):\n",
        "    return np.argmax(datum)\n",
        "    "
      ],
      "execution_count": 0,
      "outputs": []
    },
    {
      "cell_type": "code",
      "metadata": {
        "id": "BLSE-YXU0qhy",
        "colab_type": "code",
        "colab": {}
      },
      "source": [
        "y_pred_decoded = []\n",
        "for i in range(y_pred.shape[0]):\n",
        "    y_pred_decoded.append(decode(y_pred[i]))"
      ],
      "execution_count": 0,
      "outputs": []
    },
    {
      "cell_type": "code",
      "metadata": {
        "id": "WC5MSw400ubc",
        "colab_type": "code",
        "colab": {}
      },
      "source": [
        "y_test_decoded = []\n",
        "for i in range(y_test.shape[0]):\n",
        "    y_test_decoded.append(decode(y_test[i]))"
      ],
      "execution_count": 0,
      "outputs": []
    },
    {
      "cell_type": "code",
      "metadata": {
        "id": "upY7hzf80vOt",
        "colab_type": "code",
        "colab": {}
      },
      "source": [
        "compare = np.column_stack((y_test_decoded, y_pred_decoded))"
      ],
      "execution_count": 0,
      "outputs": []
    },
    {
      "cell_type": "code",
      "metadata": {
        "id": "hh6oud8Z0ydO",
        "colab_type": "code",
        "outputId": "551f132c-5b67-49d2-a4f9-6de64fb2ceef",
        "colab": {
          "base_uri": "https://localhost:8080/",
          "height": 275
        }
      },
      "source": [
        "from sklearn.metrics import classification_report\n",
        "#multilabel_confusion_matrix(y_test_decoded, y_pred_decoded)\n",
        "target_names = ['No DR', 'Mild', 'Moderate', 'Severe', 'Proliferative DR']\n",
        "print(classification_report(y_test_decoded, y_pred_decoded, target_names=target_names))"
      ],
      "execution_count": 18,
      "outputs": [
        {
          "output_type": "stream",
          "text": [
            "                  precision    recall  f1-score   support\n",
            "\n",
            "           No DR       0.53      1.00      0.69       540\n",
            "            Mild       0.00      0.00      0.00        98\n",
            "        Moderate       0.58      0.15      0.24       302\n",
            "          Severe       0.67      0.04      0.07        55\n",
            "Proliferative DR       0.00      0.00      0.00       104\n",
            "\n",
            "        accuracy                           0.54      1099\n",
            "       macro avg       0.36      0.24      0.20      1099\n",
            "    weighted avg       0.45      0.54      0.41      1099\n",
            "\n"
          ],
          "name": "stdout"
        },
        {
          "output_type": "stream",
          "text": [
            "/usr/local/lib/python3.6/dist-packages/sklearn/metrics/_classification.py:1272: UndefinedMetricWarning: Precision and F-score are ill-defined and being set to 0.0 in labels with no predicted samples. Use `zero_division` parameter to control this behavior.\n",
            "  _warn_prf(average, modifier, msg_start, len(result))\n"
          ],
          "name": "stderr"
        }
      ]
    },
    {
      "cell_type": "code",
      "metadata": {
        "id": "wvuVVwqSAcea",
        "colab_type": "code",
        "colab": {}
      },
      "source": [
        ""
      ],
      "execution_count": 0,
      "outputs": []
    }
  ]
}