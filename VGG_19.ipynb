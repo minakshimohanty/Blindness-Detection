{
  "nbformat": 4,
  "nbformat_minor": 0,
  "metadata": {
    "colab": {
      "name": "VGG-19.ipynb",
      "provenance": [],
      "collapsed_sections": [],
      "machine_shape": "hm",
      "authorship_tag": "ABX9TyOEE7f1Te1hs7fIGNgg7Ptb",
      "include_colab_link": true
    },
    "kernelspec": {
      "name": "python3",
      "display_name": "Python 3"
    },
    "accelerator": "GPU"
  },
  "cells": [
    {
      "cell_type": "markdown",
      "metadata": {
        "id": "view-in-github",
        "colab_type": "text"
      },
      "source": [
        "<a href=\"https://colab.research.google.com/github/minakshimohanty/Diabetic-Retinopathy-Detection/blob/master/VGG_19.ipynb\" target=\"_parent\"><img src=\"https://colab.research.google.com/assets/colab-badge.svg\" alt=\"Open In Colab\"/></a>"
      ]
    },
    {
      "cell_type": "code",
      "metadata": {
        "id": "tjssFf25pwot",
        "colab_type": "code",
        "outputId": "dc128817-588b-4bf2-9b86-b8616c8a3bcd",
        "colab": {
          "base_uri": "https://localhost:8080/",
          "height": 122
        }
      },
      "source": [
        "from google.colab import drive\n",
        "drive.mount('/content/drive')\n"
      ],
      "execution_count": 1,
      "outputs": [
        {
          "output_type": "stream",
          "text": [
            "Go to this URL in a browser: https://accounts.google.com/o/oauth2/auth?client_id=947318989803-6bn6qk8qdgf4n4g3pfee6491hc0brc4i.apps.googleusercontent.com&redirect_uri=urn%3aietf%3awg%3aoauth%3a2.0%3aoob&response_type=code&scope=email%20https%3a%2f%2fwww.googleapis.com%2fauth%2fdocs.test%20https%3a%2f%2fwww.googleapis.com%2fauth%2fdrive%20https%3a%2f%2fwww.googleapis.com%2fauth%2fdrive.photos.readonly%20https%3a%2f%2fwww.googleapis.com%2fauth%2fpeopleapi.readonly\n",
            "\n",
            "Enter your authorization code:\n",
            "··········\n",
            "Mounted at /content/drive\n"
          ],
          "name": "stdout"
        }
      ]
    },
    {
      "cell_type": "code",
      "metadata": {
        "id": "sbpAEfalp5Dy",
        "colab_type": "code",
        "colab": {}
      },
      "source": [
        "import pandas as pd\n",
        "import matplotlib.pyplot as plt\n",
        "%matplotlib inline\n",
        "import numpy as np"
      ],
      "execution_count": 0,
      "outputs": []
    },
    {
      "cell_type": "code",
      "metadata": {
        "id": "-Uda117Lp9by",
        "colab_type": "code",
        "colab": {}
      },
      "source": [
        "X_train = np.load('/content/drive/My Drive/Capstone 1/train_data_224.npy')\n",
        "y_train = np.load('/content/drive/My Drive/Capstone 1/train_labels_224.npy')\n",
        "X_test = np.load('/content/drive/My Drive/Capstone 1/test_data_224.npy')\n",
        "y_test = np.load('/content/drive/My Drive/Capstone 1/test_labels_224.npy')"
      ],
      "execution_count": 0,
      "outputs": []
    },
    {
      "cell_type": "code",
      "metadata": {
        "id": "cTmaqjNDp-AJ",
        "colab_type": "code",
        "outputId": "9d002593-164d-41cf-b897-904db4dd5207",
        "colab": {
          "base_uri": "https://localhost:8080/",
          "height": 34
        }
      },
      "source": [
        "from keras.utils import to_categorical\n",
        "y_train = to_categorical(y_train)\n",
        "y_test = to_categorical(y_test)"
      ],
      "execution_count": 4,
      "outputs": [
        {
          "output_type": "stream",
          "text": [
            "Using TensorFlow backend.\n"
          ],
          "name": "stderr"
        }
      ]
    },
    {
      "cell_type": "code",
      "metadata": {
        "id": "NERYYIPvyZ80",
        "colab_type": "code",
        "colab": {}
      },
      "source": [
        "IMG_HEIGHT = 224\n",
        "IMG_WIDTH = 224"
      ],
      "execution_count": 0,
      "outputs": []
    },
    {
      "cell_type": "code",
      "metadata": {
        "id": "_q9hEKT_qAny",
        "colab_type": "code",
        "outputId": "48691832-0e4d-4ea6-c25f-3993ecf537eb",
        "colab": {
          "base_uri": "https://localhost:8080/",
          "height": 989
        }
      },
      "source": [
        "import tensorflow as tf\n",
        "from tensorflow import keras\n",
        "from tensorflow.keras.applications.vgg19 import VGG19\n",
        "from tensorflow.keras.models import Model\n",
        "\n",
        "model_vgg = VGG19(include_top=False, weights='imagenet', input_shape=(IMG_HEIGHT,IMG_WIDTH,3))\n",
        "output = model_vgg.layers[-1].output\n",
        "output = keras.layers.Flatten()(output)\n",
        "model_vgg = Model(model_vgg.input, outputs=output)\n",
        "for layer in model_vgg.layers:\n",
        "    layer.trainable = False\n",
        "model_vgg.summary() "
      ],
      "execution_count": 6,
      "outputs": [
        {
          "output_type": "stream",
          "text": [
            "Downloading data from https://storage.googleapis.com/tensorflow/keras-applications/vgg19/vgg19_weights_tf_dim_ordering_tf_kernels_notop.h5\n",
            "80142336/80134624 [==============================] - 1s 0us/step\n",
            "Model: \"model\"\n",
            "_________________________________________________________________\n",
            "Layer (type)                 Output Shape              Param #   \n",
            "=================================================================\n",
            "input_1 (InputLayer)         [(None, 224, 224, 3)]     0         \n",
            "_________________________________________________________________\n",
            "block1_conv1 (Conv2D)        (None, 224, 224, 64)      1792      \n",
            "_________________________________________________________________\n",
            "block1_conv2 (Conv2D)        (None, 224, 224, 64)      36928     \n",
            "_________________________________________________________________\n",
            "block1_pool (MaxPooling2D)   (None, 112, 112, 64)      0         \n",
            "_________________________________________________________________\n",
            "block2_conv1 (Conv2D)        (None, 112, 112, 128)     73856     \n",
            "_________________________________________________________________\n",
            "block2_conv2 (Conv2D)        (None, 112, 112, 128)     147584    \n",
            "_________________________________________________________________\n",
            "block2_pool (MaxPooling2D)   (None, 56, 56, 128)       0         \n",
            "_________________________________________________________________\n",
            "block3_conv1 (Conv2D)        (None, 56, 56, 256)       295168    \n",
            "_________________________________________________________________\n",
            "block3_conv2 (Conv2D)        (None, 56, 56, 256)       590080    \n",
            "_________________________________________________________________\n",
            "block3_conv3 (Conv2D)        (None, 56, 56, 256)       590080    \n",
            "_________________________________________________________________\n",
            "block3_conv4 (Conv2D)        (None, 56, 56, 256)       590080    \n",
            "_________________________________________________________________\n",
            "block3_pool (MaxPooling2D)   (None, 28, 28, 256)       0         \n",
            "_________________________________________________________________\n",
            "block4_conv1 (Conv2D)        (None, 28, 28, 512)       1180160   \n",
            "_________________________________________________________________\n",
            "block4_conv2 (Conv2D)        (None, 28, 28, 512)       2359808   \n",
            "_________________________________________________________________\n",
            "block4_conv3 (Conv2D)        (None, 28, 28, 512)       2359808   \n",
            "_________________________________________________________________\n",
            "block4_conv4 (Conv2D)        (None, 28, 28, 512)       2359808   \n",
            "_________________________________________________________________\n",
            "block4_pool (MaxPooling2D)   (None, 14, 14, 512)       0         \n",
            "_________________________________________________________________\n",
            "block5_conv1 (Conv2D)        (None, 14, 14, 512)       2359808   \n",
            "_________________________________________________________________\n",
            "block5_conv2 (Conv2D)        (None, 14, 14, 512)       2359808   \n",
            "_________________________________________________________________\n",
            "block5_conv3 (Conv2D)        (None, 14, 14, 512)       2359808   \n",
            "_________________________________________________________________\n",
            "block5_conv4 (Conv2D)        (None, 14, 14, 512)       2359808   \n",
            "_________________________________________________________________\n",
            "block5_pool (MaxPooling2D)   (None, 7, 7, 512)         0         \n",
            "_________________________________________________________________\n",
            "flatten (Flatten)            (None, 25088)             0         \n",
            "=================================================================\n",
            "Total params: 20,024,384\n",
            "Trainable params: 0\n",
            "Non-trainable params: 20,024,384\n",
            "_________________________________________________________________\n"
          ],
          "name": "stdout"
        }
      ]
    },
    {
      "cell_type": "code",
      "metadata": {
        "id": "ETMiD0V4u0WU",
        "colab_type": "code",
        "outputId": "2a000f60-b45c-4000-916c-e4d2db2244a4",
        "colab": {
          "base_uri": "https://localhost:8080/",
          "height": 357
        }
      },
      "source": [
        "from tensorflow.keras.layers import Conv2D, MaxPooling2D, Flatten, Dense, Dropout, InputLayer\n",
        "from tensorflow.keras.models import Sequential\n",
        "from tensorflow.keras import optimizers\n",
        "\n",
        "model =  Sequential()\n",
        "input_shape=(IMG_HEIGHT,IMG_WIDTH,3)\n",
        "model.add(model_vgg)\n",
        "model.add(Dense(512, activation='relu', input_dim=input_shape))\n",
        "model.add(Dropout(0.3))\n",
        "model.add(Dense(512, activation='relu'))\n",
        "model.add(Dropout(0.3))\n",
        "model.add(Dense(5, activation='softmax')) \n",
        "\n",
        "model.compile(loss='categorical_crossentropy',\n",
        "              optimizer=optimizers.RMSprop(lr=2e-5),\n",
        "              metrics=['accuracy'])\n",
        "model.summary() "
      ],
      "execution_count": 7,
      "outputs": [
        {
          "output_type": "stream",
          "text": [
            "Model: \"sequential\"\n",
            "_________________________________________________________________\n",
            "Layer (type)                 Output Shape              Param #   \n",
            "=================================================================\n",
            "model (Model)                (None, 25088)             20024384  \n",
            "_________________________________________________________________\n",
            "dense (Dense)                (None, 512)               12845568  \n",
            "_________________________________________________________________\n",
            "dropout (Dropout)            (None, 512)               0         \n",
            "_________________________________________________________________\n",
            "dense_1 (Dense)              (None, 512)               262656    \n",
            "_________________________________________________________________\n",
            "dropout_1 (Dropout)          (None, 512)               0         \n",
            "_________________________________________________________________\n",
            "dense_2 (Dense)              (None, 5)                 2565      \n",
            "=================================================================\n",
            "Total params: 33,135,173\n",
            "Trainable params: 13,110,789\n",
            "Non-trainable params: 20,024,384\n",
            "_________________________________________________________________\n"
          ],
          "name": "stdout"
        }
      ]
    },
    {
      "cell_type": "code",
      "metadata": {
        "id": "3BEZ8P2X0Ewv",
        "colab_type": "code",
        "outputId": "d4d77c15-31a2-4443-9f91-4ca1cf718d4e",
        "colab": {
          "base_uri": "https://localhost:8080/",
          "height": 1000
        }
      },
      "source": [
        "batch_size = 128\n",
        "epochs = 30\n",
        "num_classes = 5\n",
        "X_train_norm = X_train/255\n",
        "eyetest_train = model.fit(X_train_norm, y_train, batch_size = batch_size, epochs = epochs, validation_split=0.1) "
      ],
      "execution_count": 8,
      "outputs": [
        {
          "output_type": "stream",
          "text": [
            "Epoch 1/30\n",
            "19/19 [==============================] - 8s 397ms/step - loss: 1.1760 - accuracy: 0.5698 - val_loss: 1.2998 - val_accuracy: 0.5953\n",
            "Epoch 2/30\n",
            "19/19 [==============================] - 7s 353ms/step - loss: 0.9021 - accuracy: 0.6713 - val_loss: 0.7212 - val_accuracy: 0.6693\n",
            "Epoch 3/30\n",
            "19/19 [==============================] - 7s 355ms/step - loss: 0.8396 - accuracy: 0.6860 - val_loss: 0.8399 - val_accuracy: 0.6732\n",
            "Epoch 4/30\n",
            "19/19 [==============================] - 7s 355ms/step - loss: 0.8875 - accuracy: 0.6969 - val_loss: 1.2742 - val_accuracy: 0.5953\n",
            "Epoch 5/30\n",
            "19/19 [==============================] - 7s 354ms/step - loss: 0.7693 - accuracy: 0.7099 - val_loss: 0.7124 - val_accuracy: 0.7160\n",
            "Epoch 6/30\n",
            "19/19 [==============================] - 7s 355ms/step - loss: 0.7936 - accuracy: 0.7177 - val_loss: 0.6465 - val_accuracy: 0.7198\n",
            "Epoch 7/30\n",
            "19/19 [==============================] - 7s 355ms/step - loss: 0.8247 - accuracy: 0.7177 - val_loss: 0.6648 - val_accuracy: 0.7393\n",
            "Epoch 8/30\n",
            "19/19 [==============================] - 7s 354ms/step - loss: 0.7295 - accuracy: 0.7220 - val_loss: 0.6949 - val_accuracy: 0.7315\n",
            "Epoch 9/30\n",
            "19/19 [==============================] - 7s 354ms/step - loss: 0.7221 - accuracy: 0.7255 - val_loss: 0.7449 - val_accuracy: 0.7004\n",
            "Epoch 10/30\n",
            "19/19 [==============================] - 7s 355ms/step - loss: 0.7546 - accuracy: 0.7285 - val_loss: 0.7060 - val_accuracy: 0.7354\n",
            "Epoch 11/30\n",
            "19/19 [==============================] - 7s 354ms/step - loss: 0.7018 - accuracy: 0.7346 - val_loss: 0.6089 - val_accuracy: 0.7354\n",
            "Epoch 12/30\n",
            "19/19 [==============================] - 7s 355ms/step - loss: 0.7142 - accuracy: 0.7402 - val_loss: 0.6751 - val_accuracy: 0.7510\n",
            "Epoch 13/30\n",
            "19/19 [==============================] - 7s 354ms/step - loss: 0.7211 - accuracy: 0.7359 - val_loss: 0.5679 - val_accuracy: 0.7160\n",
            "Epoch 14/30\n",
            "19/19 [==============================] - 7s 354ms/step - loss: 0.7505 - accuracy: 0.7372 - val_loss: 0.5845 - val_accuracy: 0.7315\n",
            "Epoch 15/30\n",
            "19/19 [==============================] - 7s 354ms/step - loss: 0.7264 - accuracy: 0.7424 - val_loss: 0.6902 - val_accuracy: 0.7471\n",
            "Epoch 16/30\n",
            "19/19 [==============================] - 7s 354ms/step - loss: 0.8667 - accuracy: 0.7398 - val_loss: 0.7859 - val_accuracy: 0.7198\n",
            "Epoch 17/30\n",
            "19/19 [==============================] - 7s 354ms/step - loss: 0.7390 - accuracy: 0.7493 - val_loss: 0.7698 - val_accuracy: 0.7082\n",
            "Epoch 18/30\n",
            "19/19 [==============================] - 7s 352ms/step - loss: 0.6838 - accuracy: 0.7441 - val_loss: 1.3381 - val_accuracy: 0.6576\n",
            "Epoch 19/30\n",
            "19/19 [==============================] - 7s 354ms/step - loss: 0.7099 - accuracy: 0.7433 - val_loss: 0.6515 - val_accuracy: 0.7471\n",
            "Epoch 20/30\n",
            "19/19 [==============================] - 7s 354ms/step - loss: 0.6839 - accuracy: 0.7480 - val_loss: 0.9397 - val_accuracy: 0.7004\n",
            "Epoch 21/30\n",
            "19/19 [==============================] - 7s 355ms/step - loss: 0.6405 - accuracy: 0.7493 - val_loss: 0.6739 - val_accuracy: 0.7549\n",
            "Epoch 22/30\n",
            "19/19 [==============================] - 7s 354ms/step - loss: 0.6760 - accuracy: 0.7550 - val_loss: 0.6472 - val_accuracy: 0.7432\n",
            "Epoch 23/30\n",
            "19/19 [==============================] - 7s 354ms/step - loss: 0.6435 - accuracy: 0.7520 - val_loss: 0.7629 - val_accuracy: 0.7082\n",
            "Epoch 24/30\n",
            "19/19 [==============================] - 7s 355ms/step - loss: 0.6887 - accuracy: 0.7567 - val_loss: 0.7911 - val_accuracy: 0.7471\n",
            "Epoch 25/30\n",
            "19/19 [==============================] - 7s 355ms/step - loss: 0.6355 - accuracy: 0.7624 - val_loss: 0.8076 - val_accuracy: 0.7082\n",
            "Epoch 26/30\n",
            "19/19 [==============================] - 7s 353ms/step - loss: 0.6281 - accuracy: 0.7576 - val_loss: 0.8770 - val_accuracy: 0.7082\n",
            "Epoch 27/30\n",
            "19/19 [==============================] - 7s 353ms/step - loss: 0.6216 - accuracy: 0.7593 - val_loss: 0.5123 - val_accuracy: 0.7471\n",
            "Epoch 28/30\n",
            "19/19 [==============================] - 7s 354ms/step - loss: 0.6555 - accuracy: 0.7676 - val_loss: 0.5683 - val_accuracy: 0.7704\n",
            "Epoch 29/30\n",
            "19/19 [==============================] - 7s 354ms/step - loss: 0.6798 - accuracy: 0.7710 - val_loss: 0.7646 - val_accuracy: 0.7665\n",
            "Epoch 30/30\n",
            "19/19 [==============================] - 7s 352ms/step - loss: 0.6049 - accuracy: 0.7593 - val_loss: 0.5569 - val_accuracy: 0.7510\n"
          ],
          "name": "stdout"
        }
      ]
    },
    {
      "cell_type": "code",
      "metadata": {
        "id": "KkksA_Z30b-M",
        "colab_type": "code",
        "outputId": "f26669c6-dad7-44d1-93b4-3d89253ec476",
        "colab": {
          "base_uri": "https://localhost:8080/",
          "height": 51
        }
      },
      "source": [
        "X_test_norm = X_test/255\n",
        "eyetest_eval = model.evaluate(X_test_norm, y_test, verbose=0)\n",
        "print('Test loss:', eyetest_eval[0])\n",
        "print('Test accuracy:', eyetest_eval[1])"
      ],
      "execution_count": 9,
      "outputs": [
        {
          "output_type": "stream",
          "text": [
            "Test loss: 0.7236911058425903\n",
            "Test accuracy: 0.7415832281112671\n"
          ],
          "name": "stdout"
        }
      ]
    },
    {
      "cell_type": "code",
      "metadata": {
        "id": "rBvoMpA50cmd",
        "colab_type": "code",
        "outputId": "fda77d19-4931-4d14-d4ff-18983bdb4bb9",
        "colab": {
          "base_uri": "https://localhost:8080/",
          "height": 573
        }
      },
      "source": [
        "accuracy = eyetest_train.history['accuracy']\n",
        "loss = eyetest_train.history['loss']\n",
        "val_accuracy = eyetest_train.history['val_accuracy']\n",
        "val_loss = eyetest_train.history['val_loss']\n",
        "epochs = range(len(accuracy))\n",
        "plt.plot(epochs, accuracy, 'b', label='Training accuracy')\n",
        "plt.plot(epochs, val_accuracy, 'r', label='Validation accuracy')\n",
        "plt.title('Training and validation accuracy')\n",
        "plt.ylabel('Accuracy')\n",
        "plt.xlabel('Epoch')\n",
        "plt.legend()\n",
        "plt.figure()\n",
        "plt.plot(epochs, loss, 'b', label='Training loss')\n",
        "plt.plot(epochs, val_loss, 'r', label='Validation loss')\n",
        "plt.title('Training and validation loss')\n",
        "plt.ylabel('Loss')\n",
        "plt.xlabel('Epoch')\n",
        "plt.legend()\n",
        "plt.show()"
      ],
      "execution_count": 10,
      "outputs": [
        {
          "output_type": "display_data",
          "data": {
            "image/png": "[encoded data removed]",
            "text/plain": [
              "<Figure size 432x288 with 1 Axes>"
            ]
          },
          "metadata": {
            "tags": []
          }
        },
        {
          "output_type": "display_data",
          "data": {
            "image/png": "[encoded data removed]",
            "text/plain": [
              "<Figure size 432x288 with 1 Axes>"
            ]
          },
          "metadata": {
            "tags": []
          }
        }
      ]
    },
    {
      "cell_type": "code",
      "metadata": {
        "id": "y8KDdA400fI3",
        "colab_type": "code",
        "colab": {}
      },
      "source": [
        "# predictions\n",
        "y_pred = model.predict(X_test)"
      ],
      "execution_count": 0,
      "outputs": []
    },
    {
      "cell_type": "code",
      "metadata": {
        "id": "a_v-tUnD0pXa",
        "colab_type": "code",
        "colab": {}
      },
      "source": [
        "def decode(datum):\n",
        "    return np.argmax(datum)\n",
        "    "
      ],
      "execution_count": 0,
      "outputs": []
    },
    {
      "cell_type": "code",
      "metadata": {
        "id": "BLSE-YXU0qhy",
        "colab_type": "code",
        "colab": {}
      },
      "source": [
        "y_pred_decoded = []\n",
        "for i in range(y_pred.shape[0]):\n",
        "    y_pred_decoded.append(decode(y_pred[i]))"
      ],
      "execution_count": 0,
      "outputs": []
    },
    {
      "cell_type": "code",
      "metadata": {
        "id": "WC5MSw400ubc",
        "colab_type": "code",
        "colab": {}
      },
      "source": [
        "y_test_decoded = []\n",
        "for i in range(y_test.shape[0]):\n",
        "    y_test_decoded.append(decode(y_test[i]))"
      ],
      "execution_count": 0,
      "outputs": []
    },
    {
      "cell_type": "code",
      "metadata": {
        "id": "upY7hzf80vOt",
        "colab_type": "code",
        "colab": {}
      },
      "source": [
        "compare = np.column_stack((y_test_decoded, y_pred_decoded))"
      ],
      "execution_count": 0,
      "outputs": []
    },
    {
      "cell_type": "code",
      "metadata": {
        "id": "hh6oud8Z0ydO",
        "colab_type": "code",
        "outputId": "a7dd0b1f-cfad-4d09-a114-5e71f24d2585",
        "colab": {
          "base_uri": "https://localhost:8080/",
          "height": 275
        }
      },
      "source": [
        "from sklearn.metrics import classification_report\n",
        "#multilabel_confusion_matrix(y_test_decoded, y_pred_decoded)\n",
        "target_names = ['No DR', 'Mild', 'Moderate', 'Severe', 'Proliferative DR']\n",
        "print(classification_report(y_test_decoded, y_pred_decoded, target_names=target_names))"
      ],
      "execution_count": 16,
      "outputs": [
        {
          "output_type": "stream",
          "text": [
            "                  precision    recall  f1-score   support\n",
            "\n",
            "           No DR       0.54      1.00      0.70       540\n",
            "            Mild       0.00      0.00      0.00        98\n",
            "        Moderate       0.56      0.19      0.28       302\n",
            "          Severe       1.00      0.04      0.07        55\n",
            "Proliferative DR       0.00      0.00      0.00       104\n",
            "\n",
            "        accuracy                           0.55      1099\n",
            "       macro avg       0.42      0.25      0.21      1099\n",
            "    weighted avg       0.47      0.55      0.43      1099\n",
            "\n"
          ],
          "name": "stdout"
        },
        {
          "output_type": "stream",
          "text": [
            "/usr/local/lib/python3.6/dist-packages/sklearn/metrics/_classification.py:1272: UndefinedMetricWarning: Precision and F-score are ill-defined and being set to 0.0 in labels with no predicted samples. Use `zero_division` parameter to control this behavior.\n",
            "  _warn_prf(average, modifier, msg_start, len(result))\n"
          ],
          "name": "stderr"
        }
      ]
    },
    {
      "cell_type": "code",
      "metadata": {
        "id": "wvuVVwqSAcea",
        "colab_type": "code",
        "outputId": "655449d4-81d1-4957-9294-6bfe4a01b7c9",
        "colab": {
          "base_uri": "https://localhost:8080/",
          "height": 102
        }
      },
      "source": [
        "from sklearn.metrics import confusion_matrix\n",
        "print(confusion_matrix(y_test_decoded, y_pred_decoded, labels= [0,1,2,3,4]))"
      ],
      "execution_count": 17,
      "outputs": [
        {
          "output_type": "stream",
          "text": [
            "[[540   0   0   0   0]\n",
            " [ 89   0   9   0   0]\n",
            " [245   0  57   0   0]\n",
            " [ 37   0  16   2   0]\n",
            " [ 84   0  20   0   0]]\n"
          ],
          "name": "stdout"
        }
      ]
    },
    {
      "cell_type": "code",
      "metadata": {
        "id": "Ykc5xHKIZp7Z",
        "colab_type": "code",
        "colab": {}
      },
      "source": [
        ""
      ],
      "execution_count": 0,
      "outputs": []
    }
  ]
}