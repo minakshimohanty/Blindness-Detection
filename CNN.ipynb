{
  "nbformat": 4,
  "nbformat_minor": 0,
  "metadata": {
    "colab": {
      "name": "CNN.ipynb",
      "provenance": [],
      "collapsed_sections": [],
      "machine_shape": "hm",
      "authorship_tag": "ABX9TyNFGd1GPt/RWurm83OIue5O",
      "include_colab_link": true
    },
    "kernelspec": {
      "name": "python3",
      "display_name": "Python 3"
    },
    "accelerator": "GPU"
  },
  "cells": [
    {
      "cell_type": "markdown",
      "metadata": {
        "id": "view-in-github",
        "colab_type": "text"
      },
      "source": [
        "<a href=\"https://colab.research.google.com/github/minakshimohanty/Diabetic-Retinopathy-Detection/blob/master/CNN.ipynb\" target=\"_parent\"><img src=\"https://colab.research.google.com/assets/colab-badge.svg\" alt=\"Open In Colab\"/></a>"
      ]
    },
    {
      "cell_type": "code",
      "metadata": {
        "id": "-4IgHWCnJmBD",
        "colab_type": "code",
        "colab": {}
      },
      "source": [
        "from google.colab import drive\n",
        "drive.mount('/content/drive')"
      ],
      "execution_count": 0,
      "outputs": []
    },
    {
      "cell_type": "code",
      "metadata": {
        "id": "H9zhQ5WFJyJc",
        "colab_type": "code",
        "colab": {}
      },
      "source": [
        "import pandas as pd\n",
        "import matplotlib.pyplot as plt\n",
        "%matplotlib inline\n",
        "import numpy as np"
      ],
      "execution_count": 0,
      "outputs": []
    },
    {
      "cell_type": "code",
      "metadata": {
        "id": "CQgDFH5fKTH3",
        "colab_type": "code",
        "colab": {}
      },
      "source": [
        "X_train = np.load('/content/drive/My Drive/Capstone 1/train_data_224.npy')\n",
        "y_train = np.load('/content/drive/My Drive/Capstone 1/train_labels_224.npy')\n",
        "X_test = np.load('/content/drive/My Drive/Capstone 1/test_data_224.npy')\n",
        "y_test = np.load('/content/drive/My Drive/Capstone 1/test_labels_224.npy')"
      ],
      "execution_count": 0,
      "outputs": []
    },
    {
      "cell_type": "code",
      "metadata": {
        "id": "Wa_krrhNN6Lk",
        "colab_type": "code",
        "outputId": "68270ba2-1ae8-4868-cd9d-937854a12c7a",
        "colab": {
          "base_uri": "https://localhost:8080/",
          "height": 34
        }
      },
      "source": [
        "X_train.shape"
      ],
      "execution_count": 5,
      "outputs": [
        {
          "output_type": "execute_result",
          "data": {
            "text/plain": [
              "(2563, 224, 224, 3)"
            ]
          },
          "metadata": {
            "tags": []
          },
          "execution_count": 5
        }
      ]
    },
    {
      "cell_type": "code",
      "metadata": {
        "id": "pfEMRHF-Rq0M",
        "colab_type": "code",
        "outputId": "f37e8453-f267-4d6a-e79f-5e52920018b1",
        "colab": {
          "base_uri": "https://localhost:8080/",
          "height": 34
        }
      },
      "source": [
        "y_train.shape"
      ],
      "execution_count": 6,
      "outputs": [
        {
          "output_type": "execute_result",
          "data": {
            "text/plain": [
              "(2563,)"
            ]
          },
          "metadata": {
            "tags": []
          },
          "execution_count": 6
        }
      ]
    },
    {
      "cell_type": "code",
      "metadata": {
        "id": "zZu5n_wlRq3M",
        "colab_type": "code",
        "outputId": "d910f1b6-c812-48ca-f731-78d71bc11e6f",
        "colab": {
          "base_uri": "https://localhost:8080/",
          "height": 34
        }
      },
      "source": [
        "X_test.shape"
      ],
      "execution_count": 7,
      "outputs": [
        {
          "output_type": "execute_result",
          "data": {
            "text/plain": [
              "(1099, 224, 224, 3)"
            ]
          },
          "metadata": {
            "tags": []
          },
          "execution_count": 7
        }
      ]
    },
    {
      "cell_type": "code",
      "metadata": {
        "id": "pn_rfgFdRrAf",
        "colab_type": "code",
        "outputId": "678d81c4-21d9-499c-d68b-b9c87cce05d6",
        "colab": {
          "base_uri": "https://localhost:8080/",
          "height": 34
        }
      },
      "source": [
        "y_test.shape"
      ],
      "execution_count": 8,
      "outputs": [
        {
          "output_type": "execute_result",
          "data": {
            "text/plain": [
              "(1099,)"
            ]
          },
          "metadata": {
            "tags": []
          },
          "execution_count": 8
        }
      ]
    },
    {
      "cell_type": "code",
      "metadata": {
        "id": "QS08uuoGQ5Vb",
        "colab_type": "code",
        "outputId": "a73467da-7277-44eb-a5df-58aee156b54f",
        "colab": {
          "base_uri": "https://localhost:8080/",
          "height": 34
        }
      },
      "source": [
        "from keras.utils import to_categorical\n",
        "y_train = to_categorical(y_train)\n",
        "y_test = to_categorical(y_test)"
      ],
      "execution_count": 9,
      "outputs": [
        {
          "output_type": "stream",
          "text": [
            "Using TensorFlow backend.\n"
          ],
          "name": "stderr"
        }
      ]
    },
    {
      "cell_type": "code",
      "metadata": {
        "id": "vyw2xLUYR5Nk",
        "colab_type": "code",
        "colab": {}
      },
      "source": [
        "import keras\n",
        "from tensorflow.python.keras.models import Sequential,Input,Model\n",
        "from tensorflow.python.keras.layers import Dense, Dropout, Flatten\n",
        "from tensorflow.python.keras.layers import Conv2D, MaxPooling2D\n",
        "from tensorflow.python.keras.layers.normalization import BatchNormalization\n",
        "from tensorflow.python.keras.layers.advanced_activations import LeakyReLU\n"
      ],
      "execution_count": 0,
      "outputs": []
    },
    {
      "cell_type": "code",
      "metadata": {
        "id": "BkiJEzk3v9Hb",
        "colab_type": "code",
        "colab": {}
      },
      "source": [
        "batch_size = 128\n",
        "epochs = 30\n",
        "num_classes = 5\n",
        "\n",
        "model = Sequential()\n",
        "model.add(Conv2D(32, kernel_size=(3, 3),activation='linear',input_shape=(224,224,3),padding='same'))\n",
        "model.add(LeakyReLU(alpha=0.1))\n",
        "model.add(MaxPooling2D((2, 2),padding='same'))\n",
        "model.add(Conv2D(64, (3, 3), activation='linear',padding='same'))\n",
        "model.add(LeakyReLU(alpha=0.1))\n",
        "model.add(MaxPooling2D(pool_size=(2, 2),padding='same'))\n",
        "model.add(Conv2D(128, (3, 3), activation='linear',padding='same'))\n",
        "model.add(LeakyReLU(alpha=0.1))                  \n",
        "model.add(MaxPooling2D(pool_size=(2, 2),padding='same'))\n",
        "model.add(Flatten())\n",
        "model.add(Dense(512, activation='relu'))\n",
        "model.add(Dropout(rate=0.3))\n",
        "model.add(Dense(512, activation='relu'))\n",
        "model.add(Dropout(rate=0.3))\n",
        "model.add(Dense(num_classes, activation='softmax'))\n",
        "\n"
      ],
      "execution_count": 0,
      "outputs": []
    },
    {
      "cell_type": "code",
      "metadata": {
        "id": "Q8ARtWIASJtL",
        "colab_type": "code",
        "colab": {}
      },
      "source": [
        "#compile model \n",
        "model.compile(optimizer='adam', loss='categorical_crossentropy', metrics=['accuracy'])"
      ],
      "execution_count": 0,
      "outputs": []
    },
    {
      "cell_type": "code",
      "metadata": {
        "id": "RrvHerjyRLVY",
        "colab_type": "code",
        "outputId": "5d4d7636-2a04-45da-f3e5-9b3ae8a96bcc",
        "colab": {
          "base_uri": "https://localhost:8080/",
          "height": 663
        }
      },
      "source": [
        "model.summary()"
      ],
      "execution_count": 13,
      "outputs": [
        {
          "output_type": "stream",
          "text": [
            "Model: \"sequential\"\n",
            "_________________________________________________________________\n",
            "Layer (type)                 Output Shape              Param #   \n",
            "=================================================================\n",
            "conv2d (Conv2D)              (None, 224, 224, 32)      896       \n",
            "_________________________________________________________________\n",
            "leaky_re_lu (LeakyReLU)      (None, 224, 224, 32)      0         \n",
            "_________________________________________________________________\n",
            "max_pooling2d (MaxPooling2D) (None, 112, 112, 32)      0         \n",
            "_________________________________________________________________\n",
            "conv2d_1 (Conv2D)            (None, 112, 112, 64)      18496     \n",
            "_________________________________________________________________\n",
            "leaky_re_lu_1 (LeakyReLU)    (None, 112, 112, 64)      0         \n",
            "_________________________________________________________________\n",
            "max_pooling2d_1 (MaxPooling2 (None, 56, 56, 64)        0         \n",
            "_________________________________________________________________\n",
            "conv2d_2 (Conv2D)            (None, 56, 56, 128)       73856     \n",
            "_________________________________________________________________\n",
            "leaky_re_lu_2 (LeakyReLU)    (None, 56, 56, 128)       0         \n",
            "_________________________________________________________________\n",
            "max_pooling2d_2 (MaxPooling2 (None, 28, 28, 128)       0         \n",
            "_________________________________________________________________\n",
            "flatten (Flatten)            (None, 100352)            0         \n",
            "_________________________________________________________________\n",
            "dense (Dense)                (None, 512)               51380736  \n",
            "_________________________________________________________________\n",
            "dropout (Dropout)            (None, 512)               0         \n",
            "_________________________________________________________________\n",
            "dense_1 (Dense)              (None, 512)               262656    \n",
            "_________________________________________________________________\n",
            "dropout_1 (Dropout)          (None, 512)               0         \n",
            "_________________________________________________________________\n",
            "dense_2 (Dense)              (None, 5)                 2565      \n",
            "=================================================================\n",
            "Total params: 51,739,205\n",
            "Trainable params: 51,739,205\n",
            "Non-trainable params: 0\n",
            "_________________________________________________________________\n"
          ],
          "name": "stdout"
        }
      ]
    },
    {
      "cell_type": "code",
      "metadata": {
        "id": "xiOMdVmwVB6w",
        "colab_type": "code",
        "outputId": "70a8618b-8be4-441c-faa0-bf525b589540",
        "colab": {
          "base_uri": "https://localhost:8080/",
          "height": 1000
        }
      },
      "source": [
        "#train the model\n",
        "X_train_norm = X_train/255\n",
        "eyetest_train = model.fit(X_train_norm, y_train, batch_size = batch_size, epochs = epochs, validation_split=0.1) "
      ],
      "execution_count": 14,
      "outputs": [
        {
          "output_type": "stream",
          "text": [
            "Epoch 1/30\n",
            "19/19 [==============================] - 4s 220ms/step - loss: 1.3556 - accuracy: 0.5325 - val_loss: 0.8006 - val_accuracy: 0.6809\n",
            "Epoch 2/30\n",
            "19/19 [==============================] - 3s 145ms/step - loss: 0.8074 - accuracy: 0.6856 - val_loss: 0.6947 - val_accuracy: 0.6848\n",
            "Epoch 3/30\n",
            "19/19 [==============================] - 3s 145ms/step - loss: 0.8100 - accuracy: 0.7199 - val_loss: 0.9636 - val_accuracy: 0.7237\n",
            "Epoch 4/30\n",
            "19/19 [==============================] - 3s 146ms/step - loss: 0.7370 - accuracy: 0.7160 - val_loss: 0.9311 - val_accuracy: 0.7432\n",
            "Epoch 5/30\n",
            "19/19 [==============================] - 3s 145ms/step - loss: 0.7171 - accuracy: 0.7246 - val_loss: 0.6663 - val_accuracy: 0.7315\n",
            "Epoch 6/30\n",
            "19/19 [==============================] - 3s 145ms/step - loss: 0.7565 - accuracy: 0.7303 - val_loss: 0.8612 - val_accuracy: 0.7510\n",
            "Epoch 7/30\n",
            "19/19 [==============================] - 3s 146ms/step - loss: 0.7110 - accuracy: 0.7346 - val_loss: 0.7533 - val_accuracy: 0.7043\n",
            "Epoch 8/30\n",
            "19/19 [==============================] - 3s 146ms/step - loss: 0.7058 - accuracy: 0.7324 - val_loss: 0.7629 - val_accuracy: 0.7354\n",
            "Epoch 9/30\n",
            "19/19 [==============================] - 3s 146ms/step - loss: 0.7029 - accuracy: 0.7290 - val_loss: 0.6568 - val_accuracy: 0.7471\n",
            "Epoch 10/30\n",
            "19/19 [==============================] - 3s 146ms/step - loss: 0.6868 - accuracy: 0.7294 - val_loss: 0.9825 - val_accuracy: 0.7549\n",
            "Epoch 11/30\n",
            "19/19 [==============================] - 3s 145ms/step - loss: 0.6947 - accuracy: 0.7411 - val_loss: 0.7329 - val_accuracy: 0.7471\n",
            "Epoch 12/30\n",
            "19/19 [==============================] - 3s 145ms/step - loss: 0.6488 - accuracy: 0.7493 - val_loss: 0.6222 - val_accuracy: 0.6926\n",
            "Epoch 13/30\n",
            "19/19 [==============================] - 3s 145ms/step - loss: 0.6380 - accuracy: 0.7619 - val_loss: 0.6270 - val_accuracy: 0.7160\n",
            "Epoch 14/30\n",
            "19/19 [==============================] - 3s 145ms/step - loss: 0.6662 - accuracy: 0.7511 - val_loss: 0.9104 - val_accuracy: 0.7160\n",
            "Epoch 15/30\n",
            "19/19 [==============================] - 3s 146ms/step - loss: 0.6280 - accuracy: 0.7567 - val_loss: 0.7826 - val_accuracy: 0.7354\n",
            "Epoch 16/30\n",
            "19/19 [==============================] - 3s 146ms/step - loss: 0.6279 - accuracy: 0.7637 - val_loss: 0.7153 - val_accuracy: 0.7082\n",
            "Epoch 17/30\n",
            "19/19 [==============================] - 3s 145ms/step - loss: 0.6181 - accuracy: 0.7728 - val_loss: 1.2481 - val_accuracy: 0.7160\n",
            "Epoch 18/30\n",
            "19/19 [==============================] - 3s 145ms/step - loss: 0.5798 - accuracy: 0.7836 - val_loss: 0.7863 - val_accuracy: 0.7237\n",
            "Epoch 19/30\n",
            "19/19 [==============================] - 3s 145ms/step - loss: 0.5880 - accuracy: 0.7801 - val_loss: 1.1433 - val_accuracy: 0.7121\n",
            "Epoch 20/30\n",
            "19/19 [==============================] - 3s 146ms/step - loss: 0.7795 - accuracy: 0.7454 - val_loss: 1.0541 - val_accuracy: 0.7004\n",
            "Epoch 21/30\n",
            "19/19 [==============================] - 3s 145ms/step - loss: 0.5751 - accuracy: 0.7732 - val_loss: 0.6452 - val_accuracy: 0.7510\n",
            "Epoch 22/30\n",
            "19/19 [==============================] - 3s 145ms/step - loss: 0.5336 - accuracy: 0.7862 - val_loss: 1.1323 - val_accuracy: 0.7121\n",
            "Epoch 23/30\n",
            "19/19 [==============================] - 3s 145ms/step - loss: 0.5491 - accuracy: 0.7971 - val_loss: 0.7036 - val_accuracy: 0.7276\n",
            "Epoch 24/30\n",
            "19/19 [==============================] - 3s 146ms/step - loss: 0.4914 - accuracy: 0.8170 - val_loss: 1.5254 - val_accuracy: 0.5486\n",
            "Epoch 25/30\n",
            "19/19 [==============================] - 3s 146ms/step - loss: 0.6883 - accuracy: 0.7905 - val_loss: 1.0103 - val_accuracy: 0.6965\n",
            "Epoch 26/30\n",
            "19/19 [==============================] - 3s 146ms/step - loss: 0.5667 - accuracy: 0.7910 - val_loss: 0.6731 - val_accuracy: 0.7082\n",
            "Epoch 27/30\n",
            "19/19 [==============================] - 3s 145ms/step - loss: 0.4545 - accuracy: 0.8291 - val_loss: 0.9105 - val_accuracy: 0.7043\n",
            "Epoch 28/30\n",
            "19/19 [==============================] - 3s 145ms/step - loss: 0.3961 - accuracy: 0.8530 - val_loss: 0.7653 - val_accuracy: 0.7160\n",
            "Epoch 29/30\n",
            "19/19 [==============================] - 3s 146ms/step - loss: 0.3992 - accuracy: 0.8634 - val_loss: 1.3142 - val_accuracy: 0.6965\n",
            "Epoch 30/30\n",
            "19/19 [==============================] - 3s 144ms/step - loss: 0.4636 - accuracy: 0.8521 - val_loss: 0.6990 - val_accuracy: 0.7121\n"
          ],
          "name": "stdout"
        }
      ]
    },
    {
      "cell_type": "code",
      "metadata": {
        "id": "4toEa6AVVc7b",
        "colab_type": "code",
        "outputId": "bebf97d2-bdff-4b2d-acd0-6f811ecf8ff9",
        "colab": {
          "base_uri": "https://localhost:8080/",
          "height": 51
        }
      },
      "source": [
        "#evaluate model\n",
        "X_test_norm = X_test/255\n",
        "eyetest_eval = model.evaluate(X_test_norm, y_test, verbose=0)\n",
        "print('Test loss:', eyetest_eval[0])\n",
        "print('Test accuracy:', eyetest_eval[1])"
      ],
      "execution_count": 15,
      "outputs": [
        {
          "output_type": "stream",
          "text": [
            "Test loss: 1.0861001014709473\n",
            "Test accuracy: 0.7088261842727661\n"
          ],
          "name": "stdout"
        }
      ]
    },
    {
      "cell_type": "code",
      "metadata": {
        "id": "LdqvNdwfgp1-",
        "colab_type": "code",
        "outputId": "f98e436c-7e35-40fb-daf1-11272ad5f12d",
        "colab": {
          "base_uri": "https://localhost:8080/",
          "height": 573
        }
      },
      "source": [
        "accuracy = eyetest_train.history['accuracy']\n",
        "loss = eyetest_train.history['loss']\n",
        "val_accuracy = eyetest_train.history['val_accuracy']\n",
        "val_loss = eyetest_train.history['val_loss']\n",
        "epochs = range(len(accuracy))\n",
        "plt.plot(epochs, accuracy, 'b', label='Training accuracy')\n",
        "plt.plot(epochs, val_accuracy, 'r', label='Validation accuracy')\n",
        "plt.title('Training and validation accuracy')\n",
        "plt.ylabel('Accuracy')\n",
        "plt.xlabel('Epoch')\n",
        "plt.legend()\n",
        "plt.figure()\n",
        "plt.plot(epochs, loss, 'b', label='Training loss')\n",
        "plt.plot(epochs, val_loss, 'r', label='Validation loss')\n",
        "plt.title('Training and validation loss')\n",
        "plt.ylabel('Loss')\n",
        "plt.xlabel('Epoch')\n",
        "plt.legend()\n",
        "plt.show()"
      ],
      "execution_count": 16,
      "outputs": [
        {
          "output_type": "display_data",
          "data": {
            "image/png": "[encoded data removed]",
            "text/plain": [
              "<Figure size 432x288 with 1 Axes>"
            ]
          },
          "metadata": {
            "tags": []
          }
        },
        {
          "output_type": "display_data",
          "data": {
            "image/png": "[encoded data removed]",
            "text/plain": [
              "<Figure size 432x288 with 1 Axes>"
            ]
          },
          "metadata": {
            "tags": []
          }
        }
      ]
    },
    {
      "cell_type": "code",
      "metadata": {
        "id": "1CwOZeXUrkyt",
        "colab_type": "code",
        "colab": {}
      },
      "source": [
        "# predictions\n",
        "y_pred = model.predict(X_test)"
      ],
      "execution_count": 0,
      "outputs": []
    },
    {
      "cell_type": "code",
      "metadata": {
        "id": "6B5DGam4u1GR",
        "colab_type": "code",
        "colab": {}
      },
      "source": [
        "def decode(datum):\n",
        "    return np.argmax(datum)"
      ],
      "execution_count": 0,
      "outputs": []
    },
    {
      "cell_type": "code",
      "metadata": {
        "id": "7Iubg9Kt4YFP",
        "colab_type": "code",
        "colab": {}
      },
      "source": [
        "y_pred_decoded = []\n",
        "for i in range(y_pred.shape[0]):\n",
        "    y_pred_decoded.append(decode(y_pred[i]))\n",
        "    "
      ],
      "execution_count": 0,
      "outputs": []
    },
    {
      "cell_type": "code",
      "metadata": {
        "id": "91eC2HUq60Ec",
        "colab_type": "code",
        "colab": {}
      },
      "source": [
        "y_test_decoded = []\n",
        "for i in range(y_test.shape[0]):\n",
        "    y_test_decoded.append(decode(y_test[i]))"
      ],
      "execution_count": 0,
      "outputs": []
    },
    {
      "cell_type": "code",
      "metadata": {
        "id": "W82URdvZ7m63",
        "colab_type": "code",
        "outputId": "ea335cd7-819e-443c-bf02-5127a189f97b",
        "colab": {
          "base_uri": "https://localhost:8080/",
          "height": 221
        }
      },
      "source": [
        "from sklearn.metrics import classification_report\n",
        "target_names = ['No DR', 'Mild', 'Moderate', 'Severe', 'Proliferative DR']\n",
        "print(classification_report(y_test_decoded, y_pred_decoded, target_names=target_names))"
      ],
      "execution_count": 21,
      "outputs": [
        {
          "output_type": "stream",
          "text": [
            "                  precision    recall  f1-score   support\n",
            "\n",
            "           No DR       0.93      0.93      0.93       540\n",
            "            Mild       0.42      0.15      0.22        98\n",
            "        Moderate       0.53      0.80      0.64       302\n",
            "          Severe       0.13      0.11      0.12        55\n",
            "Proliferative DR       0.11      0.03      0.05       104\n",
            "\n",
            "        accuracy                           0.70      1099\n",
            "       macro avg       0.43      0.40      0.39      1099\n",
            "    weighted avg       0.66      0.70      0.66      1099\n",
            "\n"
          ],
          "name": "stdout"
        }
      ]
    },
    {
      "cell_type": "code",
      "metadata": {
        "id": "1zxDuvSZUy5x",
        "colab_type": "code",
        "outputId": "50e1a957-1427-4c1a-e066-083ce8910a5e",
        "colab": {
          "base_uri": "https://localhost:8080/",
          "height": 102
        }
      },
      "source": [
        "from sklearn.metrics import confusion_matrix\n",
        "\n",
        "print(confusion_matrix(y_test_decoded, y_pred_decoded, labels= [0,1,2,3,4]))"
      ],
      "execution_count": 22,
      "outputs": [
        {
          "output_type": "stream",
          "text": [
            "[[502   2  22   4  10]\n",
            " [ 10  15  69   0   4]\n",
            " [ 19  14 241  23   5]\n",
            " [  1   5  38   6   5]\n",
            " [  8   0  81  12   3]]\n"
          ],
          "name": "stdout"
        }
      ]
    },
    {
      "cell_type": "code",
      "metadata": {
        "id": "A4HFcEJN_SOU",
        "colab_type": "code",
        "colab": {}
      },
      "source": [
        ""
      ],
      "execution_count": 0,
      "outputs": []
    }
  ]
}