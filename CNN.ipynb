{
  "nbformat": 4,
  "nbformat_minor": 0,
  "metadata": {
    "colab": {
      "name": "CNN.ipynb",
      "provenance": [],
      "collapsed_sections": [],
      "authorship_tag": "ABX9TyMomk7TvZT3JMmjsTELJmV2",
      "include_colab_link": true
    },
    "kernelspec": {
      "name": "python3",
      "display_name": "Python 3"
    },
    "accelerator": "GPU"
  },
  "cells": [
    {
      "cell_type": "markdown",
      "metadata": {
        "id": "view-in-github",
        "colab_type": "text"
      },
      "source": [
        "<a href=\"https://colab.research.google.com/github/minakshimohanty/Diabetic-Retinopathy-Detection/blob/master/CNN.ipynb\" target=\"_parent\"><img src=\"https://colab.research.google.com/assets/colab-badge.svg\" alt=\"Open In Colab\"/></a>"
      ]
    },
    {
      "cell_type": "code",
      "metadata": {
        "id": "-4IgHWCnJmBD",
        "colab_type": "code",
        "colab": {}
      },
      "source": [
        "from google.colab import drive\n",
        "drive.mount('/content/drive')"
      ],
      "execution_count": 0,
      "outputs": []
    },
    {
      "cell_type": "code",
      "metadata": {
        "id": "H9zhQ5WFJyJc",
        "colab_type": "code",
        "colab": {}
      },
      "source": [
        "import pandas as pd\n",
        "import matplotlib.pyplot as plt\n",
        "%matplotlib inline\n",
        "import numpy as np"
      ],
      "execution_count": 0,
      "outputs": []
    },
    {
      "cell_type": "code",
      "metadata": {
        "id": "CQgDFH5fKTH3",
        "colab_type": "code",
        "colab": {}
      },
      "source": [
        "X_train = np.load('/content/drive/My Drive/Capstone 1/train_data_224.npy')\n",
        "y_train = np.load('/content/drive/My Drive/Capstone 1/train_labels_224.npy')\n",
        "X_test = np.load('/content/drive/My Drive/Capstone 1/test_data_224.npy')\n",
        "y_test = np.load('/content/drive/My Drive/Capstone 1/test_labels_224.npy')"
      ],
      "execution_count": 0,
      "outputs": []
    },
    {
      "cell_type": "code",
      "metadata": {
        "id": "Wa_krrhNN6Lk",
        "colab_type": "code",
        "outputId": "04d13182-c99e-4658-8254-30ee863699de",
        "colab": {
          "base_uri": "https://localhost:8080/",
          "height": 34
        }
      },
      "source": [
        "X_train.shape"
      ],
      "execution_count": 0,
      "outputs": [
        {
          "output_type": "execute_result",
          "data": {
            "text/plain": [
              "(2563, 224, 224, 3)"
            ]
          },
          "metadata": {
            "tags": []
          },
          "execution_count": 5
        }
      ]
    },
    {
      "cell_type": "code",
      "metadata": {
        "id": "pfEMRHF-Rq0M",
        "colab_type": "code",
        "outputId": "ad5c5144-4ce4-426f-ba07-e2b1a2587901",
        "colab": {
          "base_uri": "https://localhost:8080/",
          "height": 34
        }
      },
      "source": [
        "y_train.shape"
      ],
      "execution_count": 0,
      "outputs": [
        {
          "output_type": "execute_result",
          "data": {
            "text/plain": [
              "(2563,)"
            ]
          },
          "metadata": {
            "tags": []
          },
          "execution_count": 6
        }
      ]
    },
    {
      "cell_type": "code",
      "metadata": {
        "id": "zZu5n_wlRq3M",
        "colab_type": "code",
        "outputId": "cb242bd7-55fd-4b34-857a-95c8809281d3",
        "colab": {
          "base_uri": "https://localhost:8080/",
          "height": 34
        }
      },
      "source": [
        "X_test.shape"
      ],
      "execution_count": 0,
      "outputs": [
        {
          "output_type": "execute_result",
          "data": {
            "text/plain": [
              "(1099, 224, 224, 3)"
            ]
          },
          "metadata": {
            "tags": []
          },
          "execution_count": 7
        }
      ]
    },
    {
      "cell_type": "code",
      "metadata": {
        "id": "pn_rfgFdRrAf",
        "colab_type": "code",
        "outputId": "99abfe2c-e92a-423e-bfdc-dafc3a7f10f1",
        "colab": {
          "base_uri": "https://localhost:8080/",
          "height": 34
        }
      },
      "source": [
        "y_test.shape"
      ],
      "execution_count": 0,
      "outputs": [
        {
          "output_type": "execute_result",
          "data": {
            "text/plain": [
              "(1099,)"
            ]
          },
          "metadata": {
            "tags": []
          },
          "execution_count": 8
        }
      ]
    },
    {
      "cell_type": "code",
      "metadata": {
        "id": "QS08uuoGQ5Vb",
        "colab_type": "code",
        "outputId": "22a7ae8a-fbbd-4169-9860-d8e8905682de",
        "colab": {
          "base_uri": "https://localhost:8080/",
          "height": 80
        }
      },
      "source": [
        "from keras.utils import to_categorical\n",
        "y_train = to_categorical(y_train)\n",
        "y_test = to_categorical(y_test)"
      ],
      "execution_count": 0,
      "outputs": [
        {
          "output_type": "stream",
          "text": [
            "Using TensorFlow backend.\n"
          ],
          "name": "stderr"
        },
        {
          "output_type": "display_data",
          "data": {
            "text/html": [
              "<p style=\"color: red;\">\n",
              "The default version of TensorFlow in Colab will soon switch to TensorFlow 2.x.<br>\n",
              "We recommend you <a href=\"https://www.tensorflow.org/guide/migrate\" target=\"_blank\">upgrade</a> now \n",
              "or ensure your notebook will continue to use TensorFlow 1.x via the <code>%tensorflow_version 1.x</code> magic:\n",
              "<a href=\"https://colab.research.google.com/notebooks/tensorflow_version.ipynb\" target=\"_blank\">more info</a>.</p>\n"
            ],
            "text/plain": [
              "<IPython.core.display.HTML object>"
            ]
          },
          "metadata": {
            "tags": []
          }
        }
      ]
    },
    {
      "cell_type": "code",
      "metadata": {
        "id": "WEcQkfFpRZtB",
        "colab_type": "code",
        "outputId": "f6aa909e-4565-4cdf-d8a4-159ae517c224",
        "colab": {
          "base_uri": "https://localhost:8080/",
          "height": 34
        }
      },
      "source": [
        "y_train[0]"
      ],
      "execution_count": 0,
      "outputs": [
        {
          "output_type": "execute_result",
          "data": {
            "text/plain": [
              "array([0., 0., 1., 0., 0.], dtype=float32)"
            ]
          },
          "metadata": {
            "tags": []
          },
          "execution_count": 10
        }
      ]
    },
    {
      "cell_type": "code",
      "metadata": {
        "id": "oeBGo4EmRd_g",
        "colab_type": "code",
        "outputId": "ab572511-a79e-4d26-c64a-70848fbaa9a9",
        "colab": {
          "base_uri": "https://localhost:8080/",
          "height": 34
        }
      },
      "source": [
        "y_test[0]"
      ],
      "execution_count": 0,
      "outputs": [
        {
          "output_type": "execute_result",
          "data": {
            "text/plain": [
              "array([1., 0., 0., 0., 0.], dtype=float32)"
            ]
          },
          "metadata": {
            "tags": []
          },
          "execution_count": 11
        }
      ]
    },
    {
      "cell_type": "code",
      "metadata": {
        "id": "vyw2xLUYR5Nk",
        "colab_type": "code",
        "colab": {}
      },
      "source": [
        "import keras\n",
        "from keras.models import Sequential,Input,Model\n",
        "from keras.layers import Dense, Dropout, Flatten\n",
        "from keras.layers import Conv2D, MaxPooling2D\n",
        "from keras.layers.normalization import BatchNormalization\n",
        "from keras.layers.advanced_activations import LeakyReLU\n"
      ],
      "execution_count": 0,
      "outputs": []
    },
    {
      "cell_type": "code",
      "metadata": {
        "id": "BkiJEzk3v9Hb",
        "colab_type": "code",
        "colab": {}
      },
      "source": [
        "batch_size = 128\n",
        "epochs = 25\n",
        "num_classes = 5\n",
        "\n",
        "model = Sequential()\n",
        "model.add(Conv2D(32, kernel_size=(3, 3),activation='linear',input_shape=(224,224,3),padding='same'))\n",
        "model.add(LeakyReLU(alpha=0.1))\n",
        "model.add(MaxPooling2D((2, 2),padding='same'))\n",
        "model.add(Conv2D(64, (3, 3), activation='linear',padding='same'))\n",
        "model.add(LeakyReLU(alpha=0.1))\n",
        "model.add(MaxPooling2D(pool_size=(2, 2),padding='same'))\n",
        "model.add(Conv2D(128, (3, 3), activation='linear',padding='same'))\n",
        "model.add(LeakyReLU(alpha=0.1))                  \n",
        "model.add(MaxPooling2D(pool_size=(2, 2),padding='same'))\n",
        "model.add(Flatten())\n",
        "#model.add(Dense(128, activation='linear'))\n",
        "#model.add(LeakyReLU(alpha=0.1))                  \n",
        "#model.add(Dense(num_classes, activation='softmax'))\n",
        "model.add(Dense(512, activation='relu'))\n",
        "model.add(Dropout(rate=0.3))\n",
        "model.add(Dense(512, activation='relu'))\n",
        "model.add(Dropout(rate=0.3))\n",
        "model.add(Dense(num_classes, activation='sigmoid'))\n",
        "\n"
      ],
      "execution_count": 0,
      "outputs": []
    },
    {
      "cell_type": "code",
      "metadata": {
        "id": "Q8ARtWIASJtL",
        "colab_type": "code",
        "colab": {}
      },
      "source": [
        "#compile model \n",
        "model.compile(optimizer='adam', loss='categorical_crossentropy', metrics=['accuracy'])"
      ],
      "execution_count": 0,
      "outputs": []
    },
    {
      "cell_type": "code",
      "metadata": {
        "id": "SDQSQiPR7CMl",
        "colab_type": "code",
        "outputId": "1bf7a13d-d890-48fd-956d-0a20cec383dc",
        "colab": {
          "base_uri": "https://localhost:8080/",
          "height": 34
        }
      },
      "source": [
        "X_train.shape"
      ],
      "execution_count": 0,
      "outputs": [
        {
          "output_type": "execute_result",
          "data": {
            "text/plain": [
              "(2563, 224, 224, 3)"
            ]
          },
          "metadata": {
            "tags": []
          },
          "execution_count": 34
        }
      ]
    },
    {
      "cell_type": "code",
      "metadata": {
        "id": "RrvHerjyRLVY",
        "colab_type": "code",
        "outputId": "14e9b1dc-b6cb-48c6-9a6d-c3ed7bc64185",
        "colab": {
          "base_uri": "https://localhost:8080/",
          "height": 663
        }
      },
      "source": [
        "model.summary()"
      ],
      "execution_count": 0,
      "outputs": [
        {
          "output_type": "stream",
          "text": [
            "Model: \"sequential_3\"\n",
            "_________________________________________________________________\n",
            "Layer (type)                 Output Shape              Param #   \n",
            "=================================================================\n",
            "conv2d_7 (Conv2D)            (None, 224, 224, 32)      896       \n",
            "_________________________________________________________________\n",
            "leaky_re_lu_8 (LeakyReLU)    (None, 224, 224, 32)      0         \n",
            "_________________________________________________________________\n",
            "max_pooling2d_7 (MaxPooling2 (None, 112, 112, 32)      0         \n",
            "_________________________________________________________________\n",
            "conv2d_8 (Conv2D)            (None, 112, 112, 64)      18496     \n",
            "_________________________________________________________________\n",
            "leaky_re_lu_9 (LeakyReLU)    (None, 112, 112, 64)      0         \n",
            "_________________________________________________________________\n",
            "max_pooling2d_8 (MaxPooling2 (None, 56, 56, 64)        0         \n",
            "_________________________________________________________________\n",
            "conv2d_9 (Conv2D)            (None, 56, 56, 128)       73856     \n",
            "_________________________________________________________________\n",
            "leaky_re_lu_10 (LeakyReLU)   (None, 56, 56, 128)       0         \n",
            "_________________________________________________________________\n",
            "max_pooling2d_9 (MaxPooling2 (None, 28, 28, 128)       0         \n",
            "_________________________________________________________________\n",
            "flatten_3 (Flatten)          (None, 100352)            0         \n",
            "_________________________________________________________________\n",
            "dense_5 (Dense)              (None, 512)               51380736  \n",
            "_________________________________________________________________\n",
            "dropout_2 (Dropout)          (None, 512)               0         \n",
            "_________________________________________________________________\n",
            "dense_6 (Dense)              (None, 512)               262656    \n",
            "_________________________________________________________________\n",
            "dropout_3 (Dropout)          (None, 512)               0         \n",
            "_________________________________________________________________\n",
            "dense_7 (Dense)              (None, 5)                 2565      \n",
            "=================================================================\n",
            "Total params: 51,739,205\n",
            "Trainable params: 51,739,205\n",
            "Non-trainable params: 0\n",
            "_________________________________________________________________\n"
          ],
          "name": "stdout"
        }
      ]
    },
    {
      "cell_type": "code",
      "metadata": {
        "id": "xiOMdVmwVB6w",
        "colab_type": "code",
        "outputId": "5bd033ae-a445-4779-9b95-e4bab84414f0",
        "colab": {
          "base_uri": "https://localhost:8080/",
          "height": 884
        }
      },
      "source": [
        "#train the model\n",
        "X_train_norm = X_train/255\n",
        "eyetest_train = model.fit(X_train_norm, y_train, batch_size = batch_size, epochs = epochs, validation_split=0.1) "
      ],
      "execution_count": 0,
      "outputs": [
        {
          "output_type": "stream",
          "text": [
            "Train on 2306 samples, validate on 257 samples\n",
            "Epoch 1/25\n",
            "2306/2306 [==============================] - 10s 4ms/step - loss: 1.1250 - acc: 0.5620 - val_loss: 0.8670 - val_acc: 0.6809\n",
            "Epoch 2/25\n",
            "2306/2306 [==============================] - 9s 4ms/step - loss: 0.8298 - acc: 0.7056 - val_loss: 0.7950 - val_acc: 0.6848\n",
            "Epoch 3/25\n",
            "2306/2306 [==============================] - 9s 4ms/step - loss: 0.7892 - acc: 0.7155 - val_loss: 0.7646 - val_acc: 0.7004\n",
            "Epoch 4/25\n",
            "2306/2306 [==============================] - 9s 4ms/step - loss: 0.7700 - acc: 0.7164 - val_loss: 0.7847 - val_acc: 0.7510\n",
            "Epoch 5/25\n",
            "2306/2306 [==============================] - 9s 4ms/step - loss: 0.7501 - acc: 0.7229 - val_loss: 0.7721 - val_acc: 0.7393\n",
            "Epoch 6/25\n",
            "2306/2306 [==============================] - 9s 4ms/step - loss: 0.7264 - acc: 0.7255 - val_loss: 0.7155 - val_acc: 0.7432\n",
            "Epoch 7/25\n",
            "2306/2306 [==============================] - 9s 4ms/step - loss: 0.7184 - acc: 0.7316 - val_loss: 0.7289 - val_acc: 0.7082\n",
            "Epoch 8/25\n",
            "2306/2306 [==============================] - 9s 4ms/step - loss: 0.7535 - acc: 0.7229 - val_loss: 0.7091 - val_acc: 0.7043\n",
            "Epoch 9/25\n",
            "2306/2306 [==============================] - 9s 4ms/step - loss: 0.7216 - acc: 0.7255 - val_loss: 0.7004 - val_acc: 0.7393\n",
            "Epoch 10/25\n",
            "2306/2306 [==============================] - 9s 4ms/step - loss: 0.7207 - acc: 0.7259 - val_loss: 0.7294 - val_acc: 0.6848\n",
            "Epoch 11/25\n",
            "2306/2306 [==============================] - 9s 4ms/step - loss: 0.7022 - acc: 0.7264 - val_loss: 0.7521 - val_acc: 0.7043\n",
            "Epoch 12/25\n",
            "2306/2306 [==============================] - 9s 4ms/step - loss: 0.6758 - acc: 0.7398 - val_loss: 0.7299 - val_acc: 0.7588\n",
            "Epoch 13/25\n",
            "2306/2306 [==============================] - 9s 4ms/step - loss: 0.6683 - acc: 0.7515 - val_loss: 0.7189 - val_acc: 0.7471\n",
            "Epoch 14/25\n",
            "2306/2306 [==============================] - 9s 4ms/step - loss: 0.6345 - acc: 0.7546 - val_loss: 0.7143 - val_acc: 0.7315\n",
            "Epoch 15/25\n",
            "2306/2306 [==============================] - 9s 4ms/step - loss: 0.6030 - acc: 0.7645 - val_loss: 0.7199 - val_acc: 0.7393\n",
            "Epoch 16/25\n",
            "2306/2306 [==============================] - 9s 4ms/step - loss: 0.5747 - acc: 0.7645 - val_loss: 0.8351 - val_acc: 0.7082\n",
            "Epoch 17/25\n",
            "2306/2306 [==============================] - 9s 4ms/step - loss: 0.6261 - acc: 0.7502 - val_loss: 0.7375 - val_acc: 0.7432\n",
            "Epoch 18/25\n",
            "2306/2306 [==============================] - 9s 4ms/step - loss: 0.5824 - acc: 0.7654 - val_loss: 0.7392 - val_acc: 0.7198\n",
            "Epoch 19/25\n",
            "2306/2306 [==============================] - 9s 4ms/step - loss: 0.5181 - acc: 0.7814 - val_loss: 0.8183 - val_acc: 0.7354\n",
            "Epoch 20/25\n",
            "2306/2306 [==============================] - 9s 4ms/step - loss: 0.5028 - acc: 0.8027 - val_loss: 0.9749 - val_acc: 0.7354\n",
            "Epoch 21/25\n",
            "2306/2306 [==============================] - 9s 4ms/step - loss: 0.4475 - acc: 0.8075 - val_loss: 0.9110 - val_acc: 0.7121\n",
            "Epoch 22/25\n",
            "2306/2306 [==============================] - 9s 4ms/step - loss: 0.3802 - acc: 0.8391 - val_loss: 0.9104 - val_acc: 0.7160\n",
            "Epoch 23/25\n",
            "2306/2306 [==============================] - 9s 4ms/step - loss: 0.3088 - acc: 0.8734 - val_loss: 1.0803 - val_acc: 0.7198\n",
            "Epoch 24/25\n",
            "2306/2306 [==============================] - 9s 4ms/step - loss: 0.3095 - acc: 0.8803 - val_loss: 1.0183 - val_acc: 0.7004\n",
            "Epoch 25/25\n",
            "2306/2306 [==============================] - 9s 4ms/step - loss: 0.2625 - acc: 0.8933 - val_loss: 1.2504 - val_acc: 0.7160\n"
          ],
          "name": "stdout"
        }
      ]
    },
    {
      "cell_type": "code",
      "metadata": {
        "id": "4toEa6AVVc7b",
        "colab_type": "code",
        "outputId": "be5bc1ef-805d-4a3a-f548-a460c1bf7aef",
        "colab": {
          "base_uri": "https://localhost:8080/",
          "height": 51
        }
      },
      "source": [
        "#evaluate model\n",
        "X_test_norm = X_test/255\n",
        "eyetest_eval = model.evaluate(X_test_norm, y_test, verbose=0)\n",
        "print('Test loss:', eyetest_eval[0])\n",
        "print('Test accuracy:', eyetest_eval[1])"
      ],
      "execution_count": 0,
      "outputs": [
        {
          "output_type": "stream",
          "text": [
            "Test loss: 1.3334482262848288\n",
            "Test accuracy: 0.7197452228214656\n"
          ],
          "name": "stdout"
        }
      ]
    },
    {
      "cell_type": "code",
      "metadata": {
        "id": "LdqvNdwfgp1-",
        "colab_type": "code",
        "outputId": "6a0db0ef-8c2a-4ec5-e17e-18d401cc259e",
        "colab": {
          "base_uri": "https://localhost:8080/",
          "height": 573
        }
      },
      "source": [
        "accuracy = eyetest_train.history['acc']\n",
        "loss = eyetest_train.history['loss']\n",
        "val_accuracy = eyetest_train.history['val_acc']\n",
        "val_loss = eyetest_train.history['val_loss']\n",
        "epochs = range(len(accuracy))\n",
        "plt.plot(epochs, accuracy, 'b', label='Training accuracy')\n",
        "plt.plot(epochs, val_accuracy, 'r', label='Validation accuracy')\n",
        "plt.title('Training and validation accuracy')\n",
        "plt.ylabel('Accuracy')\n",
        "plt.xlabel('Epoch')\n",
        "plt.legend()\n",
        "plt.figure()\n",
        "plt.plot(epochs, loss, 'b', label='Training loss')\n",
        "plt.plot(epochs, val_loss, 'r', label='Validation loss')\n",
        "plt.title('Training and validation loss')\n",
        "plt.ylabel('Loss')\n",
        "plt.xlabel('Epoch')\n",
        "plt.legend()\n",
        "plt.show()"
      ],
      "execution_count": 0,
      "outputs": [
        {
          "output_type": "display_data",
          "data": {
            "image/png": "[encoded data removed]",
            "text/plain": [
              "<Figure size 432x288 with 1 Axes>"
            ]
          },
          "metadata": {
            "tags": []
          }
        },
        {
          "output_type": "display_data",
          "data": {
            "image/png": "[encoded data removed]",
            "text/plain": [
              "<Figure size 432x288 with 1 Axes>"
            ]
          },
          "metadata": {
            "tags": []
          }
        }
      ]
    },
    {
      "cell_type": "code",
      "metadata": {
        "id": "1CwOZeXUrkyt",
        "colab_type": "code",
        "colab": {}
      },
      "source": [
        "# predictions\n",
        "y_pred = model.predict(X_test)"
      ],
      "execution_count": 0,
      "outputs": []
    },
    {
      "cell_type": "code",
      "metadata": {
        "id": "04Owcu-fuBhL",
        "colab_type": "code",
        "outputId": "55121a7f-2692-45ad-d015-49425a995616",
        "colab": {
          "base_uri": "https://localhost:8080/",
          "height": 51
        }
      },
      "source": [
        "y_pred[1000]"
      ],
      "execution_count": 0,
      "outputs": [
        {
          "output_type": "execute_result",
          "data": {
            "text/plain": [
              "array([1.0000000e+00, 0.0000000e+00, 1.0000000e+00, 8.7442994e-04,\n",
              "       1.0000000e+00], dtype=float32)"
            ]
          },
          "metadata": {
            "tags": []
          },
          "execution_count": 40
        }
      ]
    },
    {
      "cell_type": "code",
      "metadata": {
        "id": "FHMj-6R0uyCz",
        "colab_type": "code",
        "outputId": "15a55a68-b91f-4d60-c97b-ec29a0ea1086",
        "colab": {
          "base_uri": "https://localhost:8080/",
          "height": 34
        }
      },
      "source": [
        "y_test[4]"
      ],
      "execution_count": 0,
      "outputs": [
        {
          "output_type": "execute_result",
          "data": {
            "text/plain": [
              "array([1., 0., 0., 0., 0.], dtype=float32)"
            ]
          },
          "metadata": {
            "tags": []
          },
          "execution_count": 41
        }
      ]
    },
    {
      "cell_type": "code",
      "metadata": {
        "id": "6B5DGam4u1GR",
        "colab_type": "code",
        "colab": {}
      },
      "source": [
        "def decode(datum):\n",
        "    return np.argmax(datum)"
      ],
      "execution_count": 0,
      "outputs": []
    },
    {
      "cell_type": "code",
      "metadata": {
        "id": "7Iubg9Kt4YFP",
        "colab_type": "code",
        "colab": {}
      },
      "source": [
        "y_pred_decoded = []\n",
        "for i in range(y_pred.shape[0]):\n",
        "    y_pred_decoded.append(decode(y_pred[i]))\n",
        "    "
      ],
      "execution_count": 0,
      "outputs": []
    },
    {
      "cell_type": "code",
      "metadata": {
        "id": "KCRd5JSZ4m2T",
        "colab_type": "code",
        "outputId": "d655929a-e34d-4c79-b4b6-6ca0a0883f25",
        "colab": {
          "base_uri": "https://localhost:8080/",
          "height": 34
        }
      },
      "source": [
        "len(y_pred_decoded)"
      ],
      "execution_count": 0,
      "outputs": [
        {
          "output_type": "execute_result",
          "data": {
            "text/plain": [
              "1099"
            ]
          },
          "metadata": {
            "tags": []
          },
          "execution_count": 44
        }
      ]
    },
    {
      "cell_type": "code",
      "metadata": {
        "id": "91eC2HUq60Ec",
        "colab_type": "code",
        "colab": {}
      },
      "source": [
        "y_test_decoded = []\n",
        "for i in range(y_test.shape[0]):\n",
        "    y_test_decoded.append(decode(y_test[i]))"
      ],
      "execution_count": 0,
      "outputs": []
    },
    {
      "cell_type": "code",
      "metadata": {
        "id": "c9wtb84H67DR",
        "colab_type": "code",
        "outputId": "3efa2a38-8ec3-4ace-acce-f6546064c014",
        "colab": {
          "base_uri": "https://localhost:8080/",
          "height": 34
        }
      },
      "source": [
        "len(y_test_decoded)"
      ],
      "execution_count": 0,
      "outputs": [
        {
          "output_type": "execute_result",
          "data": {
            "text/plain": [
              "1099"
            ]
          },
          "metadata": {
            "tags": []
          },
          "execution_count": 46
        }
      ]
    },
    {
      "cell_type": "code",
      "metadata": {
        "id": "wIl-HBqu5SzW",
        "colab_type": "code",
        "colab": {}
      },
      "source": [
        "compare = np.column_stack((y_test_decoded, y_pred_decoded))"
      ],
      "execution_count": 0,
      "outputs": []
    },
    {
      "cell_type": "code",
      "metadata": {
        "id": "vNrQX8aP6_Qd",
        "colab_type": "code",
        "outputId": "8aa57779-80bb-470a-ca8b-1bcf22e74fae",
        "colab": {
          "base_uri": "https://localhost:8080/",
          "height": 1000
        }
      },
      "source": [
        "compare[0:100]"
      ],
      "execution_count": 0,
      "outputs": [
        {
          "output_type": "execute_result",
          "data": {
            "text/plain": [
              "array([[0, 0],\n",
              "       [1, 0],\n",
              "       [3, 0],\n",
              "       [4, 2],\n",
              "       [0, 0],\n",
              "       [0, 0],\n",
              "       [0, 0],\n",
              "       [4, 2],\n",
              "       [2, 2],\n",
              "       [2, 2],\n",
              "       [0, 0],\n",
              "       [0, 0],\n",
              "       [2, 2],\n",
              "       [2, 2],\n",
              "       [2, 0],\n",
              "       [0, 2],\n",
              "       [0, 0],\n",
              "       [0, 0],\n",
              "       [0, 0],\n",
              "       [0, 0],\n",
              "       [0, 0],\n",
              "       [0, 0],\n",
              "       [4, 0],\n",
              "       [1, 3],\n",
              "       [1, 1],\n",
              "       [2, 0],\n",
              "       [2, 1],\n",
              "       [1, 1],\n",
              "       [1, 0],\n",
              "       [0, 0],\n",
              "       [2, 2],\n",
              "       [2, 1],\n",
              "       [0, 0],\n",
              "       [0, 0],\n",
              "       [0, 0],\n",
              "       [4, 0],\n",
              "       [0, 0],\n",
              "       [0, 0],\n",
              "       [2, 2],\n",
              "       [0, 0],\n",
              "       [4, 1],\n",
              "       [4, 2],\n",
              "       [0, 0],\n",
              "       [1, 0],\n",
              "       [2, 1],\n",
              "       [4, 2],\n",
              "       [0, 0],\n",
              "       [3, 0],\n",
              "       [0, 0],\n",
              "       [2, 2],\n",
              "       [0, 0],\n",
              "       [2, 2],\n",
              "       [0, 0],\n",
              "       [3, 2],\n",
              "       [0, 0],\n",
              "       [2, 2],\n",
              "       [0, 0],\n",
              "       [0, 0],\n",
              "       [2, 2],\n",
              "       [2, 1],\n",
              "       [4, 2],\n",
              "       [3, 3],\n",
              "       [2, 1],\n",
              "       [0, 0],\n",
              "       [2, 2],\n",
              "       [0, 0],\n",
              "       [0, 0],\n",
              "       [0, 0],\n",
              "       [0, 0],\n",
              "       [0, 0],\n",
              "       [1, 2],\n",
              "       [0, 0],\n",
              "       [2, 2],\n",
              "       [2, 2],\n",
              "       [2, 2],\n",
              "       [0, 0],\n",
              "       [0, 0],\n",
              "       [0, 0],\n",
              "       [2, 2],\n",
              "       [0, 0],\n",
              "       [0, 0],\n",
              "       [0, 0],\n",
              "       [2, 2],\n",
              "       [1, 1],\n",
              "       [2, 2],\n",
              "       [2, 2],\n",
              "       [0, 0],\n",
              "       [2, 2],\n",
              "       [0, 0],\n",
              "       [0, 0],\n",
              "       [4, 0],\n",
              "       [0, 0],\n",
              "       [0, 0],\n",
              "       [4, 2],\n",
              "       [2, 0],\n",
              "       [0, 0],\n",
              "       [3, 2],\n",
              "       [4, 2],\n",
              "       [0, 0],\n",
              "       [0, 0]])"
            ]
          },
          "metadata": {
            "tags": []
          },
          "execution_count": 48
        }
      ]
    },
    {
      "cell_type": "code",
      "metadata": {
        "id": "W82URdvZ7m63",
        "colab_type": "code",
        "outputId": "47a58b99-8ecb-437b-ef20-63040a11ae0b",
        "colab": {
          "base_uri": "https://localhost:8080/",
          "height": 221
        }
      },
      "source": [
        "from sklearn.metrics import classification_report\n",
        "#multilabel_confusion_matrix(y_test_decoded, y_pred_decoded)\n",
        "target_names = ['No DR', 'Mild', 'Moderate', 'Severe', 'Proliferative DR']\n",
        "print(classification_report(y_test_decoded, y_pred_decoded, target_names=target_names))"
      ],
      "execution_count": 0,
      "outputs": [
        {
          "output_type": "stream",
          "text": [
            "                  precision    recall  f1-score   support\n",
            "\n",
            "           No DR       0.82      0.97      0.89       540\n",
            "            Mild       0.34      0.50      0.40        98\n",
            "        Moderate       0.64      0.58      0.61       302\n",
            "          Severe       0.21      0.11      0.14        55\n",
            "Proliferative DR       0.43      0.06      0.10       104\n",
            "\n",
            "        accuracy                           0.69      1099\n",
            "       macro avg       0.49      0.44      0.43      1099\n",
            "    weighted avg       0.66      0.69      0.66      1099\n",
            "\n"
          ],
          "name": "stdout"
        }
      ]
    },
    {
      "cell_type": "code",
      "metadata": {
        "id": "1zxDuvSZUy5x",
        "colab_type": "code",
        "colab": {}
      },
      "source": [
        ""
      ],
      "execution_count": 0,
      "outputs": []
    }
  ]
}